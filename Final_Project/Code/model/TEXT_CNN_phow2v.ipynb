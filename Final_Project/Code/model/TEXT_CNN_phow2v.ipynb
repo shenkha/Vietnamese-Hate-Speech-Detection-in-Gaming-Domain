{
  "cells": [
    {
      "cell_type": "markdown",
      "metadata": {
        "id": "M81n5YJfXhi3"
      },
      "source": [
        "# Library"
      ]
    },
    {
      "cell_type": "code",
      "execution_count": null,
      "metadata": {
        "colab": {
          "base_uri": "https://localhost:8080/"
        },
        "id": "FRK31_QeOx9r",
        "outputId": "2e176ec5-ae0b-4dbb-ced2-55ee3b6df319"
      },
      "outputs": [
        {
          "output_type": "stream",
          "name": "stdout",
          "text": [
            "Collecting pyvi\n",
            "  Downloading pyvi-0.1.1-py2.py3-none-any.whl (8.5 MB)\n",
            "\u001b[?25l     \u001b[90m━━━━━━━━━━━━━━━━━━━━━━━━━━━━━━━━━━━━━━━━\u001b[0m \u001b[32m0.0/8.5 MB\u001b[0m \u001b[31m?\u001b[0m eta \u001b[36m-:--:--\u001b[0m\r\u001b[2K     \u001b[91m━━━━\u001b[0m\u001b[91m╸\u001b[0m\u001b[90m━━━━━━━━━━━━━━━━━━━━━━━━━━━━━━━━━━━\u001b[0m \u001b[32m1.0/8.5 MB\u001b[0m \u001b[31m46.6 MB/s\u001b[0m eta \u001b[36m0:00:01\u001b[0m\r\u001b[2K     \u001b[91m━━━━\u001b[0m\u001b[91m╸\u001b[0m\u001b[90m━━━━━━━━━━━━━━━━━━━━━━━━━━━━━━━━━━━\u001b[0m \u001b[32m1.0/8.5 MB\u001b[0m \u001b[31m46.6 MB/s\u001b[0m eta \u001b[36m0:00:01\u001b[0m\r\u001b[2K     \u001b[91m━━━━━━━━━━━━━━\u001b[0m\u001b[91m╸\u001b[0m\u001b[90m━━━━━━━━━━━━━━━━━━━━━━━━━\u001b[0m \u001b[32m3.1/8.5 MB\u001b[0m \u001b[31m33.6 MB/s\u001b[0m eta \u001b[36m0:00:01\u001b[0m\r\u001b[2K     \u001b[91m━━━━━━━━━━━━━━━━━━━━━━━━━━━\u001b[0m\u001b[91m╸\u001b[0m\u001b[90m━━━━━━━━━━━━\u001b[0m \u001b[32m5.9/8.5 MB\u001b[0m \u001b[31m42.5 MB/s\u001b[0m eta \u001b[36m0:00:01\u001b[0m\r\u001b[2K     \u001b[91m━━━━━━━━━━━━━━━━━━━━━━━━━━━━━━━━━━\u001b[0m\u001b[91m╸\u001b[0m\u001b[90m━━━━━\u001b[0m \u001b[32m7.3/8.5 MB\u001b[0m \u001b[31m42.9 MB/s\u001b[0m eta \u001b[36m0:00:01\u001b[0m\r\u001b[2K     \u001b[91m━━━━━━━━━━━━━━━━━━━━━━━━━━━━━━━━━━━━━━━\u001b[0m\u001b[91m╸\u001b[0m \u001b[32m8.4/8.5 MB\u001b[0m \u001b[31m40.8 MB/s\u001b[0m eta \u001b[36m0:00:01\u001b[0m\r\u001b[2K     \u001b[90m━━━━━━━━━━━━━━━━━━━━━━━━━━━━━━━━━━━━━━━━\u001b[0m \u001b[32m8.5/8.5 MB\u001b[0m \u001b[31m35.3 MB/s\u001b[0m eta \u001b[36m0:00:00\u001b[0m\n",
            "\u001b[?25hRequirement already satisfied: scikit-learn in /usr/local/lib/python3.10/dist-packages (from pyvi) (1.2.2)\n",
            "Collecting sklearn-crfsuite (from pyvi)\n",
            "  Downloading sklearn_crfsuite-0.3.6-py2.py3-none-any.whl (12 kB)\n",
            "Requirement already satisfied: numpy>=1.17.3 in /usr/local/lib/python3.10/dist-packages (from scikit-learn->pyvi) (1.22.4)\n",
            "Requirement already satisfied: scipy>=1.3.2 in /usr/local/lib/python3.10/dist-packages (from scikit-learn->pyvi) (1.10.1)\n",
            "Requirement already satisfied: joblib>=1.1.1 in /usr/local/lib/python3.10/dist-packages (from scikit-learn->pyvi) (1.2.0)\n",
            "Requirement already satisfied: threadpoolctl>=2.0.0 in /usr/local/lib/python3.10/dist-packages (from scikit-learn->pyvi) (3.1.0)\n",
            "Collecting python-crfsuite>=0.8.3 (from sklearn-crfsuite->pyvi)\n",
            "  Downloading python_crfsuite-0.9.9-cp310-cp310-manylinux_2_17_x86_64.manylinux2014_x86_64.whl (993 kB)\n",
            "\u001b[2K     \u001b[90m━━━━━━━━━━━━━━━━━━━━━━━━━━━━━━━━━━━━━━\u001b[0m \u001b[32m993.5/993.5 kB\u001b[0m \u001b[31m75.6 MB/s\u001b[0m eta \u001b[36m0:00:00\u001b[0m\n",
            "\u001b[?25hRequirement already satisfied: six in /usr/local/lib/python3.10/dist-packages (from sklearn-crfsuite->pyvi) (1.16.0)\n",
            "Requirement already satisfied: tabulate in /usr/local/lib/python3.10/dist-packages (from sklearn-crfsuite->pyvi) (0.8.10)\n",
            "Requirement already satisfied: tqdm>=2.0 in /usr/local/lib/python3.10/dist-packages (from sklearn-crfsuite->pyvi) (4.65.0)\n",
            "Installing collected packages: python-crfsuite, sklearn-crfsuite, pyvi\n",
            "Successfully installed python-crfsuite-0.9.9 pyvi-0.1.1 sklearn-crfsuite-0.3.6\n"
          ]
        }
      ],
      "source": [
        "pip install pyvi"
      ]
    },
    {
      "cell_type": "code",
      "execution_count": null,
      "metadata": {
        "id": "YeeDYlL-58mU"
      },
      "outputs": [],
      "source": [
        "#pip install tensorflow-gpu==2.1"
      ]
    },
    {
      "cell_type": "code",
      "execution_count": null,
      "metadata": {
        "colab": {
          "base_uri": "https://localhost:8080/"
        },
        "id": "y8uvkIcF7NDJ",
        "outputId": "a4b60595-bb34-4622-de2d-eca79c0a50b4"
      },
      "outputs": [
        {
          "output_type": "stream",
          "name": "stdout",
          "text": [
            "Requirement already satisfied: keras in /usr/local/lib/python3.10/dist-packages (2.12.0)\n"
          ]
        }
      ],
      "source": [
        "#pip install keras"
      ]
    },
    {
      "cell_type": "markdown",
      "metadata": {
        "id": "QJkUyD1q7x2b"
      },
      "source": [
        "# Data loader"
      ]
    },
    {
      "cell_type": "code",
      "source": [
        "from google.colab import drive\n",
        "drive.mount('/content/drive')"
      ],
      "metadata": {
        "colab": {
          "base_uri": "https://localhost:8080/"
        },
        "id": "TxnY9VTlGQ2B",
        "outputId": "e2df9cd7-097d-4025-9660-362d07e4fe1a"
      },
      "execution_count": null,
      "outputs": [
        {
          "output_type": "stream",
          "name": "stdout",
          "text": [
            "Mounted at /content/drive\n"
          ]
        }
      ]
    },
    {
      "cell_type": "code",
      "execution_count": null,
      "metadata": {
        "colab": {
          "base_uri": "https://localhost:8080/"
        },
        "id": "UZlqfic28EXR",
        "outputId": "f9878ba4-bba2-40f5-cf2c-3b326dba0848"
      },
      "outputs": [
        {
          "output_type": "stream",
          "name": "stdout",
          "text": [
            "5665\n",
            "809\n",
            "1619\n"
          ]
        }
      ],
      "source": [
        "import pandas as pd\n",
        "import numpy as np\n",
        "\n",
        "DATA = '/content/drive/MyDrive/MachineLearning/FinalTerm/ProcessingData/train.csv'\n",
        "DEV_DATA = '/content/drive/MyDrive/MachineLearning/FinalTerm/ProcessingData/val.csv'\n",
        "TEST_DATA = '/content/drive/MyDrive/MachineLearning/FinalTerm/ProcessingData/test.csv'\n",
        "\n",
        "# read data\n",
        "train_data = pd.read_csv(DATA)\n",
        "dev_data = pd.read_csv(DEV_DATA)\n",
        "test_data = pd.read_csv(TEST_DATA)\n",
        "\n",
        "print(len(train_data))\n",
        "print(len(dev_data))\n",
        "print(len(test_data))\n",
        "\n",
        "X_train = train_data['Comment']\n",
        "y_train = train_data['Label'].values\n",
        "\n",
        "X_dev = dev_data['Comment']\n",
        "y_dev = dev_data['Label'].values\n",
        "\n",
        "X_test = test_data['Comment']\n",
        "y_test = test_data['Label'].values"
      ]
    },
    {
      "cell_type": "code",
      "execution_count": null,
      "metadata": {
        "id": "OgTZiygq7xNq"
      },
      "outputs": [],
      "source": [
        "import pandas as pd\n",
        "import numpy as np\n",
        "\n",
        "from pyvi.ViTokenizer import ViTokenizer\n",
        "\n",
        "STOPWORDS = '/content/drive/MyDrive/MachineLearning/FinalTerm/ProcessingData/vietnamese-stopwords-dash.txt'\n",
        "with open(STOPWORDS, \"r\") as ins:\n",
        "    stopwords = []\n",
        "    for line in ins:\n",
        "        dd = line.strip('\\n')\n",
        "        stopwords.append(dd)\n",
        "    stopwords = set(stopwords)\n",
        "\n",
        "def filter_stop_words(train_sentences, stop_words):\n",
        "    new_sent = [word for word in train_sentences.split() if word not in stop_words]\n",
        "    train_sentences = ' '.join(new_sent)\n",
        "\n",
        "    return train_sentences\n",
        "\n",
        "def deEmojify(text):\n",
        "    regrex_pattern = re.compile(pattern = \"[\"\n",
        "        u\"\\U0001F600-\\U0001F64F\"  # emoticons\n",
        "        u\"\\U0001F300-\\U0001F5FF\"  # symbols & pictographs\n",
        "        u\"\\U0001F680-\\U0001F6FF\"  # transport & map symbols\n",
        "        u\"\\U0001F1E0-\\U0001F1FF\"  # flags (iOS)\n",
        "                           \"]+\", flags = re.UNICODE)\n",
        "    return regrex_pattern.sub(r'',text)\n",
        "\n",
        "def preprocess(text, tokenized = True, lowercased = True):\n",
        "    #text = ViTokenizer.tokenize(text) if tokenized else text\n",
        "    text = filter_stop_words(text, stopwords)\n",
        "    text = deEmojify(text)\n",
        "    text = text.lower() if lowercased else text\n",
        "    return text"
      ]
    },
    {
      "cell_type": "code",
      "source": [
        "# --------------TRICH XUAT DAC TRUNG -------------------------\n",
        "def pre_process_features(X, y, tokenized = True, lowercased = True):\n",
        "    X = [preprocess(str(p), tokenized = tokenized, lowercased = lowercased) for p in list(X)]\n",
        "    for idx, ele in enumerate(X):\n",
        "        if not ele:\n",
        "            np.delete(X, idx)\n",
        "            np.delete(y, idx)\n",
        "    return X, y"
      ],
      "metadata": {
        "id": "XHoS6JM5XVrE"
      },
      "execution_count": null,
      "outputs": []
    },
    {
      "cell_type": "markdown",
      "metadata": {
        "id": "oBlkTx2wd7Sj"
      },
      "source": [
        "# Run models"
      ]
    },
    {
      "cell_type": "markdown",
      "metadata": {
        "id": "V01ASmKuck6C"
      },
      "source": [
        "## Text CNN (Convolutional neural network for text classification)"
      ]
    },
    {
      "cell_type": "code",
      "source": [
        "import keras\n",
        "print(keras.__version__)"
      ],
      "metadata": {
        "colab": {
          "base_uri": "https://localhost:8080/"
        },
        "id": "ceHpWQ_yQpys",
        "outputId": "35b9a6a9-b942-4a0e-99c6-cf540263d1a8"
      },
      "execution_count": null,
      "outputs": [
        {
          "output_type": "stream",
          "name": "stdout",
          "text": [
            "2.12.0\n"
          ]
        }
      ]
    },
    {
      "cell_type": "code",
      "source": [
        "from tensorflow.keras.preprocessing.sequence import pad_sequences"
      ],
      "metadata": {
        "id": "WjGBmXpbUSAb"
      },
      "execution_count": null,
      "outputs": []
    },
    {
      "cell_type": "code",
      "source": [
        "# Text CNN\n",
        "import pandas as pd\n",
        "import numpy as np\n",
        "import re\n",
        "import pickle\n",
        "\n",
        "import seaborn as sn\n",
        "import pandas as pd\n",
        "import matplotlib.pyplot as plt\n",
        "\n",
        "from keras.layers import Input, Dense, Embedding, Conv2D, MaxPool2D\n",
        "from keras.layers import Reshape, Flatten, Dropout, Concatenate\n",
        "from keras.callbacks import ModelCheckpoint\n",
        "from keras.optimizers import Adam\n",
        "from keras.models import Model\n",
        "from keras.utils import to_categorical\n",
        "from keras.preprocessing import text, sequence\n",
        "from sklearn.metrics import f1_score, confusion_matrix, accuracy_score\n",
        "from sklearn.model_selection import train_test_split, StratifiedShuffleSplit"
      ],
      "metadata": {
        "id": "u-abec4lWszX"
      },
      "execution_count": null,
      "outputs": []
    },
    {
      "cell_type": "code",
      "execution_count": null,
      "metadata": {
        "id": "-4cBz1CgdPJy"
      },
      "outputs": [],
      "source": [
        "train_X, train_y = pre_process_features(X_train, y_train, tokenized=True, lowercased = True)\n",
        "dev_X, dev_y = pre_process_features(X_dev, y_dev, tokenized=True, lowercased = True)\n",
        "test_X, test_y = pre_process_features(X_test, y_test, tokenized=True, lowercased = True)\n",
        "\n",
        "#EMBEDDING_FILE = '/content/drive/MyDrive/MachineLearning/word2vec_vi_syllables_300dims.txt'\n",
        "EMBEDDING_FILE = '/content/drive/MyDrive/MachineLearning/FinalTerm/TextCNN/word2vec_vi_words_300dims.txt'\n",
        "MODEL_FILE = '/content/drive/MyDrive/MachineLearning/FinalTerm/TextCNN/Text_CNN_model_v13(Phow2v_Syllable).h5'\n",
        "\n",
        "def make_featues(X, y, tokenizer, is_one_hot_label=True):\n",
        "    X = tokenizer.texts_to_sequences(X)\n",
        "    #X = sequence.pad_sequences(X, maxlen=sequence_length)\n",
        "    X = pad_sequences(X, maxlen=sequence_length)\n",
        "    if is_one_hot_label:\n",
        "        y = to_categorical(y, num_classes=3)\n",
        "\n",
        "    return X, y\n",
        "\n",
        "vocabulary_size = 10000\n",
        "sequence_length = 100\n",
        "\n",
        "embedding_dim = 300\n",
        "batch_size = 256\n",
        "epochs = 40\n",
        "drop = 0.5\n",
        "\n",
        "filter_sizes = [2,3,5]\n",
        "num_filters = 32"
      ]
    },
    {
      "cell_type": "code",
      "source": [
        "# --------------LOAD WORD EMBEDDING -------------------------\n",
        "embeddings_index = {}\n",
        "with open(EMBEDDING_FILE, encoding='utf8') as f:\n",
        "    for line in f:\n",
        "        values = line.rstrip().rsplit(' ')\n",
        "        word = values[0]\n",
        "        coefs = np.asarray(values[1:], dtype='float32')\n",
        "        embeddings_index[word] = coefs\n",
        "\n",
        "\n",
        "tokenizer = text.Tokenizer(lower=False, filters='!\"#$%&()*+,-./:;<=>?@[\\\\]^`{|}~\\t\\n')\n",
        "tokenizer.fit_on_texts(train_X)"
      ],
      "metadata": {
        "id": "k3FNVx-GUrg7"
      },
      "execution_count": null,
      "outputs": []
    },
    {
      "cell_type": "code",
      "source": [
        "#with open('drive/My Drive/CODE/HSD/tokenizer.pickle', 'wb') as handle:\n",
        "#    pickle.dump(tokenizer, handle, protocol=pickle.HIGHEST_PROTOCOL)\n",
        "\n",
        "word_index = tokenizer.word_index\n",
        "# num_words = min(vocabulary_size, len(word_index) + 1)\n",
        "num_words = len(word_index) + 1\n",
        "embedding_matrix = np.zeros((num_words, embedding_dim))\n",
        "\n",
        "for word, i in word_index.items():\n",
        "    if i >= vocabulary_size:\n",
        "        continue\n",
        "\n",
        "    embedding_vector = embeddings_index.get(word)\n",
        "    if embedding_vector is not None:\n",
        "        embedding_matrix[i] = embedding_vector"
      ],
      "metadata": {
        "id": "Q5atlUTKSKub"
      },
      "execution_count": null,
      "outputs": []
    },
    {
      "cell_type": "code",
      "source": [
        "# Make features\n",
        "train_X, train_y = make_featues(train_X, train_y, tokenizer)\n",
        "dev_X, dev_y = make_featues(dev_X, dev_y, tokenizer)\n",
        "test_X, test_y = make_featues(test_X, test_y, tokenizer, is_one_hot_label=False)"
      ],
      "metadata": {
        "id": "lVK58yprYLzM"
      },
      "execution_count": null,
      "outputs": []
    },
    {
      "cell_type": "code",
      "source": [
        "inputs = Input(shape=(sequence_length,), dtype='int32')\n",
        "embedding = Embedding(input_dim=num_words, output_dim=embedding_dim, input_length=sequence_length, weights=[embedding_matrix])(inputs)\n",
        "reshape = Reshape((sequence_length,embedding_dim,1))(embedding)\n",
        "\n",
        "conv_0 = Conv2D(num_filters, kernel_size=(filter_sizes[0], embedding_dim), padding='valid', kernel_initializer='normal', activation='elu')(reshape)\n",
        "conv_1 = Conv2D(num_filters, kernel_size=(filter_sizes[1], embedding_dim), padding='valid', kernel_initializer='normal', activation='elu')(reshape)\n",
        "conv_2 = Conv2D(num_filters, kernel_size=(filter_sizes[2], embedding_dim), padding='valid', kernel_initializer='normal', activation='elu')(reshape)\n",
        "\n",
        "maxpool_0 = MaxPool2D(pool_size=(sequence_length - filter_sizes[0] + 1, 1), strides=(1,1), padding='valid')(conv_0)\n",
        "maxpool_1 = MaxPool2D(pool_size=(sequence_length - filter_sizes[1] + 1, 1), strides=(1,1), padding='valid')(conv_1)\n",
        "maxpool_2 = MaxPool2D(pool_size=(sequence_length - filter_sizes[2] + 1, 1), strides=(1,1), padding='valid')(conv_2)\n",
        "\n",
        "concatenated_tensor = Concatenate(axis=1)([maxpool_0, maxpool_1, maxpool_2])\n",
        "flatten = Flatten()(concatenated_tensor)\n",
        "dropout = Dropout(drop)(flatten)\n",
        "output = Dense(units=3, activation='softmax')(dropout)\n",
        "\n",
        "# this creates a model that includes\n",
        "model = Model(inputs=inputs, outputs=output)\n",
        "\n",
        "model.summary()"
      ],
      "metadata": {
        "colab": {
          "base_uri": "https://localhost:8080/"
        },
        "id": "CQSm6QqsYQA1",
        "outputId": "b8a355dc-02bc-464c-92b9-b5c9bc1eda7e"
      },
      "execution_count": null,
      "outputs": [
        {
          "output_type": "stream",
          "name": "stdout",
          "text": [
            "Model: \"model\"\n",
            "__________________________________________________________________________________________________\n",
            " Layer (type)                   Output Shape         Param #     Connected to                     \n",
            "==================================================================================================\n",
            " input_1 (InputLayer)           [(None, 100)]        0           []                               \n",
            "                                                                                                  \n",
            " embedding (Embedding)          (None, 100, 300)     1357800     ['input_1[0][0]']                \n",
            "                                                                                                  \n",
            " reshape (Reshape)              (None, 100, 300, 1)  0           ['embedding[0][0]']              \n",
            "                                                                                                  \n",
            " conv2d (Conv2D)                (None, 99, 1, 32)    19232       ['reshape[0][0]']                \n",
            "                                                                                                  \n",
            " conv2d_1 (Conv2D)              (None, 98, 1, 32)    28832       ['reshape[0][0]']                \n",
            "                                                                                                  \n",
            " conv2d_2 (Conv2D)              (None, 96, 1, 32)    48032       ['reshape[0][0]']                \n",
            "                                                                                                  \n",
            " max_pooling2d (MaxPooling2D)   (None, 1, 1, 32)     0           ['conv2d[0][0]']                 \n",
            "                                                                                                  \n",
            " max_pooling2d_1 (MaxPooling2D)  (None, 1, 1, 32)    0           ['conv2d_1[0][0]']               \n",
            "                                                                                                  \n",
            " max_pooling2d_2 (MaxPooling2D)  (None, 1, 1, 32)    0           ['conv2d_2[0][0]']               \n",
            "                                                                                                  \n",
            " concatenate (Concatenate)      (None, 3, 1, 32)     0           ['max_pooling2d[0][0]',          \n",
            "                                                                  'max_pooling2d_1[0][0]',        \n",
            "                                                                  'max_pooling2d_2[0][0]']        \n",
            "                                                                                                  \n",
            " flatten (Flatten)              (None, 96)           0           ['concatenate[0][0]']            \n",
            "                                                                                                  \n",
            " dropout (Dropout)              (None, 96)           0           ['flatten[0][0]']                \n",
            "                                                                                                  \n",
            " dense (Dense)                  (None, 3)            291         ['dropout[0][0]']                \n",
            "                                                                                                  \n",
            "==================================================================================================\n",
            "Total params: 1,454,187\n",
            "Trainable params: 1,454,187\n",
            "Non-trainable params: 0\n",
            "__________________________________________________________________________________________________\n"
          ]
        }
      ]
    },
    {
      "cell_type": "markdown",
      "source": [
        "### Syllable"
      ],
      "metadata": {
        "id": "K2cAwDqI-clq"
      }
    },
    {
      "cell_type": "code",
      "source": [
        "checkpoint = ModelCheckpoint('weights.{epoch:03d}-{val_acc:.4f}.hdf5', monitor='val_acc', verbose=1, save_best_only=True, mode='auto')\n",
        "adam = Adam(lr=1e-4, beta_1=0.9, beta_2=0.999, epsilon=1e-08, decay=0.0)\n",
        "\n",
        "model.compile(optimizer=adam, loss='categorical_crossentropy', metrics=['accuracy'])\n",
        "\n",
        "model.fit(train_X, train_y, batch_size=batch_size, epochs=epochs, verbose=1,\n",
        "          validation_data=(dev_X, dev_y))\n",
        "model.save(MODEL_FILE)\n",
        "\n",
        "prediction = model.predict(test_X, batch_size=batch_size, verbose=0)\n",
        "y_pred = prediction.argmax(axis=-1)\n",
        "\n",
        "cf1 = confusion_matrix(test_y, y_pred)\n",
        "print(cf1)\n",
        "\n",
        "evaluation = f1_score(test_y, y_pred, average='micro')\n",
        "\n",
        "print(\"F1 - micro: \" + str(evaluation))\n",
        "\n",
        "evaluation = f1_score(test_y, y_pred, average='macro')\n",
        "print(\"F1 - macro: \" + str(evaluation))\n",
        "\n",
        "evaluation = accuracy_score(test_y, y_pred)\n",
        "print(\"Accuracy: \" + str(evaluation))\n",
        "\n",
        "df_cm1 = pd.DataFrame(cf1, index = [\"clean\",\"offensive\",\"hate\"],\n",
        "                  columns = [\"clean\",\"offensive\",\"hate\"])\n",
        "plt.clf()\n",
        "sn.heatmap(df_cm1, annot=True, cmap=\"Greys\",fmt='g', cbar=True, annot_kws={\"size\": 30})"
      ],
      "metadata": {
        "colab": {
          "base_uri": "https://localhost:8080/",
          "height": 1000
        },
        "id": "k44pIakZSQAi",
        "outputId": "ceb70f09-7ae8-4282-9639-3ccd2ebdbc78"
      },
      "execution_count": null,
      "outputs": [
        {
          "output_type": "stream",
          "name": "stdout",
          "text": [
            "Epoch 1/40\n"
          ]
        },
        {
          "output_type": "stream",
          "name": "stderr",
          "text": [
            "/usr/local/lib/python3.10/dist-packages/keras/optimizers/legacy/adam.py:117: UserWarning: The `lr` argument is deprecated, use `learning_rate` instead.\n",
            "  super().__init__(name, **kwargs)\n"
          ]
        },
        {
          "output_type": "stream",
          "name": "stdout",
          "text": [
            "23/23 [==============================] - 14s 57ms/step - loss: 1.0252 - accuracy: 0.6358 - val_loss: 0.9633 - val_accuracy: 0.7515\n",
            "Epoch 2/40\n",
            "23/23 [==============================] - 0s 19ms/step - loss: 0.8982 - accuracy: 0.7788 - val_loss: 0.8638 - val_accuracy: 0.7515\n",
            "Epoch 3/40\n",
            "23/23 [==============================] - 0s 19ms/step - loss: 0.8006 - accuracy: 0.7772 - val_loss: 0.7835 - val_accuracy: 0.7515\n",
            "Epoch 4/40\n",
            "23/23 [==============================] - 0s 21ms/step - loss: 0.7234 - accuracy: 0.7786 - val_loss: 0.7241 - val_accuracy: 0.7515\n",
            "Epoch 5/40\n",
            "23/23 [==============================] - 0s 20ms/step - loss: 0.6677 - accuracy: 0.7797 - val_loss: 0.6814 - val_accuracy: 0.7515\n",
            "Epoch 6/40\n",
            "23/23 [==============================] - 0s 20ms/step - loss: 0.6247 - accuracy: 0.7831 - val_loss: 0.6483 - val_accuracy: 0.7565\n",
            "Epoch 7/40\n",
            "23/23 [==============================] - 0s 20ms/step - loss: 0.5964 - accuracy: 0.7917 - val_loss: 0.6202 - val_accuracy: 0.7602\n",
            "Epoch 8/40\n",
            "23/23 [==============================] - 0s 18ms/step - loss: 0.5650 - accuracy: 0.8021 - val_loss: 0.5952 - val_accuracy: 0.7800\n",
            "Epoch 9/40\n",
            "23/23 [==============================] - 0s 17ms/step - loss: 0.5432 - accuracy: 0.8125 - val_loss: 0.5725 - val_accuracy: 0.7936\n",
            "Epoch 10/40\n",
            "23/23 [==============================] - 0s 19ms/step - loss: 0.5151 - accuracy: 0.8261 - val_loss: 0.5506 - val_accuracy: 0.8072\n",
            "Epoch 11/40\n",
            "23/23 [==============================] - 0s 17ms/step - loss: 0.4913 - accuracy: 0.8332 - val_loss: 0.5324 - val_accuracy: 0.8121\n",
            "Epoch 12/40\n",
            "23/23 [==============================] - 0s 17ms/step - loss: 0.4735 - accuracy: 0.8358 - val_loss: 0.5152 - val_accuracy: 0.8146\n",
            "Epoch 13/40\n",
            "23/23 [==============================] - 0s 17ms/step - loss: 0.4494 - accuracy: 0.8408 - val_loss: 0.4987 - val_accuracy: 0.8146\n",
            "Epoch 14/40\n",
            "23/23 [==============================] - 0s 18ms/step - loss: 0.4353 - accuracy: 0.8424 - val_loss: 0.4838 - val_accuracy: 0.8171\n",
            "Epoch 15/40\n",
            "23/23 [==============================] - 0s 19ms/step - loss: 0.4180 - accuracy: 0.8457 - val_loss: 0.4682 - val_accuracy: 0.8195\n",
            "Epoch 16/40\n",
            "23/23 [==============================] - 0s 17ms/step - loss: 0.4028 - accuracy: 0.8503 - val_loss: 0.4536 - val_accuracy: 0.8232\n",
            "Epoch 17/40\n",
            "23/23 [==============================] - 0s 17ms/step - loss: 0.3859 - accuracy: 0.8535 - val_loss: 0.4415 - val_accuracy: 0.8245\n",
            "Epoch 18/40\n",
            "23/23 [==============================] - 0s 17ms/step - loss: 0.3694 - accuracy: 0.8590 - val_loss: 0.4286 - val_accuracy: 0.8319\n",
            "Epoch 19/40\n",
            "23/23 [==============================] - 0s 17ms/step - loss: 0.3547 - accuracy: 0.8625 - val_loss: 0.4175 - val_accuracy: 0.8356\n",
            "Epoch 20/40\n",
            "23/23 [==============================] - 0s 17ms/step - loss: 0.3415 - accuracy: 0.8692 - val_loss: 0.4054 - val_accuracy: 0.8430\n",
            "Epoch 21/40\n",
            "23/23 [==============================] - 0s 17ms/step - loss: 0.3307 - accuracy: 0.8770 - val_loss: 0.3942 - val_accuracy: 0.8467\n",
            "Epoch 22/40\n",
            "23/23 [==============================] - 0s 18ms/step - loss: 0.3190 - accuracy: 0.8798 - val_loss: 0.3841 - val_accuracy: 0.8566\n",
            "Epoch 23/40\n",
            "23/23 [==============================] - 0s 17ms/step - loss: 0.3012 - accuracy: 0.8874 - val_loss: 0.3768 - val_accuracy: 0.8566\n",
            "Epoch 24/40\n",
            "23/23 [==============================] - 0s 19ms/step - loss: 0.2928 - accuracy: 0.8891 - val_loss: 0.3687 - val_accuracy: 0.8653\n",
            "Epoch 25/40\n",
            "23/23 [==============================] - 0s 17ms/step - loss: 0.2798 - accuracy: 0.8946 - val_loss: 0.3615 - val_accuracy: 0.8727\n",
            "Epoch 26/40\n",
            "23/23 [==============================] - 0s 17ms/step - loss: 0.2721 - accuracy: 0.8994 - val_loss: 0.3547 - val_accuracy: 0.8752\n",
            "Epoch 27/40\n",
            "23/23 [==============================] - 0s 18ms/step - loss: 0.2648 - accuracy: 0.9029 - val_loss: 0.3487 - val_accuracy: 0.8789\n",
            "Epoch 28/40\n",
            "23/23 [==============================] - 0s 19ms/step - loss: 0.2521 - accuracy: 0.9070 - val_loss: 0.3450 - val_accuracy: 0.8813\n",
            "Epoch 29/40\n",
            "23/23 [==============================] - 0s 17ms/step - loss: 0.2439 - accuracy: 0.9100 - val_loss: 0.3396 - val_accuracy: 0.8850\n",
            "Epoch 30/40\n",
            "23/23 [==============================] - 0s 17ms/step - loss: 0.2360 - accuracy: 0.9151 - val_loss: 0.3350 - val_accuracy: 0.8888\n",
            "Epoch 31/40\n",
            "23/23 [==============================] - 0s 17ms/step - loss: 0.2274 - accuracy: 0.9174 - val_loss: 0.3330 - val_accuracy: 0.8888\n",
            "Epoch 32/40\n",
            "23/23 [==============================] - 0s 17ms/step - loss: 0.2176 - accuracy: 0.9232 - val_loss: 0.3308 - val_accuracy: 0.8900\n",
            "Epoch 33/40\n",
            "23/23 [==============================] - 0s 21ms/step - loss: 0.2146 - accuracy: 0.9239 - val_loss: 0.3276 - val_accuracy: 0.8900\n",
            "Epoch 34/40\n",
            "23/23 [==============================] - 0s 21ms/step - loss: 0.2094 - accuracy: 0.9287 - val_loss: 0.3247 - val_accuracy: 0.8912\n",
            "Epoch 35/40\n",
            "23/23 [==============================] - 0s 20ms/step - loss: 0.2007 - accuracy: 0.9310 - val_loss: 0.3233 - val_accuracy: 0.8900\n",
            "Epoch 36/40\n",
            "23/23 [==============================] - 0s 19ms/step - loss: 0.1961 - accuracy: 0.9331 - val_loss: 0.3220 - val_accuracy: 0.8888\n",
            "Epoch 37/40\n",
            "23/23 [==============================] - 0s 20ms/step - loss: 0.1859 - accuracy: 0.9373 - val_loss: 0.3213 - val_accuracy: 0.8888\n",
            "Epoch 38/40\n",
            "23/23 [==============================] - 1s 29ms/step - loss: 0.1822 - accuracy: 0.9391 - val_loss: 0.3199 - val_accuracy: 0.8875\n",
            "Epoch 39/40\n",
            "23/23 [==============================] - 0s 18ms/step - loss: 0.1730 - accuracy: 0.9444 - val_loss: 0.3191 - val_accuracy: 0.8863\n",
            "Epoch 40/40\n",
            "23/23 [==============================] - 0s 18ms/step - loss: 0.1706 - accuracy: 0.9456 - val_loss: 0.3182 - val_accuracy: 0.8888\n",
            "[[1246   20    4]\n",
            " [  57  166   15]\n",
            " [  51   27   33]]\n",
            "F1 - micro: 0.8925262507720816\n",
            "F1 - macro: 0.6969150014283189\n",
            "Accuracy: 0.8925262507720816\n"
          ]
        },
        {
          "output_type": "execute_result",
          "data": {
            "text/plain": [
              "<Axes: >"
            ]
          },
          "metadata": {},
          "execution_count": 15
        },
        {
          "output_type": "display_data",
          "data": {
            "text/plain": [
              "<Figure size 640x480 with 2 Axes>"
            ],
            "image/png": "[encoded data removed]"
          },
          "metadata": {}
        }
      ]
    },
    {
      "cell_type": "markdown",
      "source": [
        "### Testing for syllable"
      ],
      "metadata": {
        "id": "P1LwuzrYZjIc"
      }
    },
    {
      "cell_type": "code",
      "source": [
        "for i in range(len(y_pred)):\n",
        "    if y_pred[i] != test_y[i]:\n",
        "      print(test_data['Comment'][i], '|',y_pred[i] , '|', test_y[i])"
      ],
      "metadata": {
        "colab": {
          "base_uri": "https://localhost:8080/"
        },
        "id": "h3HrHPpkZtEA",
        "outputId": "52734a43-6f8a-48c1-d23f-83ed770543a3"
      },
      "execution_count": null,
      "outputs": [
        {
          "output_type": "stream",
          "name": "stdout",
          "text": [
            "se mấy bữa_nay giả fan trung_lập đi nhục kinh lắm | 0 | 2\n",
            "bình_luận_viên hơi lạnh phải🤣🤣🤣 | 0 | 2\n",
            "híu thảo đồ | 0 | 2\n",
            "đá | 1 | 0\n",
            "who need dev 1 ve: v | 0 | 2\n",
            "mày đánh lux cặc | 0 | 2\n",
            "??? huy bú | 0 | 2\n",
            "đặc cầu | 0 | 1\n",
            "aduvipwa | 0 | 1\n",
            "zeus non học 369:)))) | 0 | 2\n",
            "ys cặc | 0 | 2\n",
            "2 đội gà v | 0 | 2\n",
            "bọn như cặc già | 1 | 0\n",
            "mẹ dink 140 | 0 | 1\n",
            "nizy nhon vãi lồn =)) | 1 | 2\n",
            "mấy hề đánh | 0 | 2\n",
            "quang hải thịt trih trâu | 0 | 2\n",
            "cưỡi con_bé awesome | 0 | 2\n",
            "duma rừng | 0 | 1\n",
            "sài_gòn lạnh chúng_mày chẳng hiểu sao đá | 0 | 2\n",
            "red hút đá s | 0 | 2\n",
            "lồn out trình sea | 1 | 0\n",
            "đù 18 | 1 | 0\n",
            "na hành máy quen =)) | 0 | 2\n",
            "diana điên | 1 | 2\n",
            "đéo tự_tin | 0 | 1\n",
            "7 tạ | 2 | 0\n",
            "xin_lỗi | 1 | 0\n",
            "mẹ sp hoài | 0 | 1\n",
            "lê khánh vô_học | 0 | 2\n",
            "chấn bé đù | 1 | 2\n",
            "mấy mấy đánh nhảy đầu cổ ta mắng_chửi v, cổ_vũ kệ văn_minh đi🥰 xấu hình_ảnh vãi cặc | 0 | 1\n",
            "ngài điên | 1 | 2\n",
            "quốc nhục gân đàm | 0 | 1\n",
            "lồn magnus xoay vòng | 0 | 1\n",
            "đi rừng ngu nh chó | 2 | 1\n",
            "trụ rồng, chiến_thuật bọn gân đàm | 0 | 2\n",
            "địt mẹ ghép ghép 3 đấy awesome | 0 | 1\n",
            "mé tara ghê | 0 | 1\n",
            "ana ngáo đá | 1 | 2\n",
            "đánh vầy đ hater | 1 | 0\n",
            "đùu | 0 | 1\n",
            "cơm tró?? | 1 | 0\n",
            "móc con mẹ mày view se tao gam | 2 | 1\n",
            "tật ác | 0 | 1\n",
            "thắng vua, thua se sủa | 0 | 2\n",
            "tao chậm chạy lồn | 0 | 1\n",
            "bò lane:)) | 1 | 0\n",
            "đái quần | 1 | 0\n",
            "xong mẹ game:))) | 1 | 0\n",
            "gân đàm đái é é é | 0 | 1\n",
            "mẹ tưởng gọi | 1 | 0\n",
            "giọng thương vãi =))) | 1 | 0\n",
            "duyên_dáng đánh kém vãi lồn | 1 | 2\n",
            "vải:)) | 1 | 0\n",
            "tao đéo kệ mẹ tao | 2 | 1\n",
            "kẹ mịa team đi ngài farm gánh | 0 | 1\n",
            "bá đần gánh team | 2 | 1\n",
            "vãi cức hình blody, logo ea | 0 | 1\n",
            "cướp cặc | 0 | 1\n",
            ":)) bọn comment chiêu anet chửi red | 0 | 2\n",
            "nhục | 0 | 1\n",
            "neon vo hoc | 0 | 2\n",
            "pick ẻn zo đi bồn lình | 2 | 0\n",
            "a3 rep đéo | 0 | 1\n",
            "giết gay | 0 | 1\n",
            "trời làm_ơn hảo não đi, tặng ngài bá đần | 0 | 2\n",
            "đnáh dốt pha | 1 | 2\n",
            "chào coi condilon | 0 | 1\n",
            "khanhbeo an cut khanhbeo ancut | 0 | 2\n",
            "híu dễ_thương boà tr:)) | 0 | 2\n",
            "vãi đi đánh xong thua eco | 0 | 1\n",
            "maky múa kinh vkl | 1 | 2\n",
            "dám pick medu, chả pick am vã mồm | 0 | 1\n",
            "gậy wukong xong địt mẹ | 0 | 1\n",
            "gáy hề 2 dỡ | 0 | 1\n",
            "lông | 0 | 1\n",
            "rank việt cao_thủ toàn gà, xoá gảm đi | 0 | 2\n",
            "ly da xấu nhở | 0 | 2\n",
            "mù mắt | 0 | 1\n",
            "dú dú dú anh em oi | 0 | 2\n",
            "cơ_bắp | 0 | 2\n",
            "view ff đéo 1 góc lq | 1 | 2\n",
            "ly lép anh em | 0 | 2\n",
            "giọng uống đá:)))) | 1 | 0\n",
            "dí cạc | 0 | 1\n",
            "lồn mid cày thuê | 0 | 1\n",
            "sp butter gà vãi cặc | 1 | 2\n",
            "vô_địch cộng nhìu thui vô nồi vô_địch quốc_nội | 2 | 0\n",
            "giải con cặc | 0 | 1\n",
            "xam làm gì ha =)) | 0 | 1\n",
            "đéo tryhard =)) giải từ_thiện bắn tryhard =)) | 0 | 1\n",
            "nauti kinred đù vãi cặc | 1 | 2\n",
            "ma vuong suyt như cặc ngoai` day | 1 | 0\n",
            "mana cút awesome | 0 | 1\n",
            "mấy đứa bảo fan blg chẳng_qua anti-fan geng, mấy gà, 3-0 geng | 0 | 2\n",
            "bố_láo | 0 | 1\n",
            "lạ gáy | 0 | 1\n",
            "game liên_quân trẻ trâu hiểu_biết. nhăn cuội, chả.:)) | 0 | 2\n",
            "best zed mẹ phản_xạ smite nể | 0 | 1\n",
            "duma top | 0 | 1\n",
            "aim đéo gi day | 0 | 1\n",
            "mé bùn ngủ vãi | 0 | 1\n",
            "vinhcs chán vãi lồn, lck lpl chuyên_môn, văn tùng phân_tích sâu =)) | 2 | 1\n",
            "vãi cả lồn vị tướng de na | 2 | 1\n",
            "set ngài hơi phèn | 1 | 2\n",
            "nhạc đb\\ | 0 | 1\n",
            "d 'động vao no | 0 | 1\n",
            "rẻ_mạt | 0 | 1\n",
            "đéo | 1 | 0\n",
            "yado đánh_đấm quần què | 0 | 2\n",
            "hùng bú win hơi | 1 | 2\n",
            "deo bat untl | 0 | 1\n",
            "vô văn_hoá | 0 | 1\n",
            "tộc_người hang < (\") | 1 | 0\n",
            "mid tao bảo may lồn | 1 | 2\n",
            "se lck đánh lồn view gam đánh rôi: v | 1 | 0\n",
            "kindead đậu non | 1 | 0\n",
            "lồn rừng | 1 | 2\n",
            "an cuc | 0 | 1\n",
            "lyly mặc bì al | 2 | 0\n",
            "lpl trung bán_độ máy_cày =)) | 0 | 2\n",
            "tró lày:)) | 0 | 2\n",
            "rác | 0 | 1\n",
            "ngài điên mẹ | 1 | 2\n",
            "chương_trình truyền_hình mạng chửi thề tư_cách hả tùng | 0 | 2\n",
            "blg khéo vô_địch đội nhánh gam auto vô_địch, bùa lợi vcs vãi lồn | 1 | 2\n",
            "ngu học | 2 | 1\n",
            "mấy thánh sủa bậy | 2 | 0\n",
            "phế chết thay | 0 | 1\n",
            "ren đần sút | 1 | 2\n",
            "chán vãi lồn | 1 | 2\n",
            "trình gáy kinh lắm. thua đổ thừa vòng_vo bo, map tủ, quen meta.... cười ỉa. hứa. củ | 0 | 1\n",
            "lồn medusa hack tiền | 0 | 2\n",
            "moá sp lolz | 1 | 2\n",
            "d hieu thua pha | 1 | 0\n",
            "kda rác vãi cặc | 1 | 2\n",
            "lok riot say đéo | 0 | 1\n",
            "câm | 0 | 1\n",
            "cơm chó? | 1 | 0\n",
            "đá trứng cút hai blv đi híu | 0 | 2\n",
            "vlin mấy g2:)) | 0 | 2\n",
            "kênh chat mất_dạy vãi lồn:)) | 2 | 1\n",
            "bai tổn luồi | 0 | 2\n",
            "vãi òo nãy_giờ quyền đăng_ký | 0 | 1\n",
            "@ huy mai nhường??? đánh ngu xong kêu nhường, ba_mẹ dạy mày khiêm_tốn? ba_mẹ m chết | 0 | 2\n",
            "giáp ct hn đần v | 0 | 2\n",
            "ngai` thi` cax nao hanh`:))) | 0 | 2\n",
            "mẹ mày | 2 | 1\n",
            "đánh vầy psg vả sấp_mặt lồn | 2 | 1\n",
            "bật ulti hoá đá creep | 2 | 0\n",
            "mid kỹ_năng, đi bú rừng | 1 | 2\n",
            "vng làm_ăn cặc | 1 | 2\n",
            "mẹ | 1 | 0\n",
            "vai biu kèo hồi xưa | 0 | 1\n",
            "vãi | 1 | 0\n",
            "rắn thành giun | 0 | 1\n",
            "mẹ | 1 | 0\n",
            "admin target xàm lồn | 2 | 1\n",
            "trình 36đái | 0 | 1\n",
            "t1ngu vãi cặc, pick nauti toàn thua pick tiếp | 1 | 2\n",
            "m choi da | 0 | 2\n",
            ". gáy đi:))) | 0 | 1\n",
            "cứu kanavi thọt con_mẹ: v | 0 | 1\n",
            "gánh ngu | 0 | 1\n",
            "2 thằng blv đống rác liên_quân v?? | 0 | 2\n",
            "nguyên cỏ thằng trẻ_con học_đòi sơn lambo | 0 | 2\n",
            "đá | 1 | 0\n",
            "đậu đần vai tôn ngộ 7749 kiếp nạn gengu | 1 | 0\n"
          ]
        }
      ]
    },
    {
      "cell_type": "code",
      "source": [
        "excel_file = '/content/drive/MyDrive/MachineLearning/Data/wrong(label).xlsx'"
      ],
      "metadata": {
        "id": "cRNHRLiPO2tA"
      },
      "execution_count": null,
      "outputs": []
    },
    {
      "cell_type": "code",
      "source": [
        "# Ghi DataFrame vào file Excel\n",
        "y_preded = pd.DataFrame(y_pred)\n",
        "y_preded.to_excel(excel_file, index=False)"
      ],
      "metadata": {
        "id": "4BLetNNcOsWp"
      },
      "execution_count": null,
      "outputs": []
    },
    {
      "cell_type": "markdown",
      "source": [
        "### Word"
      ],
      "metadata": {
        "id": "1vcaKQiv-XCv"
      }
    },
    {
      "cell_type": "code",
      "source": [
        "checkpoint = ModelCheckpoint('weights.{epoch:03d}-{val_acc:.4f}.hdf5', monitor='val_acc', verbose=1, save_best_only=True, mode='auto')\n",
        "adam = Adam(lr=1e-4, beta_1=0.9, beta_2=0.999, epsilon=1e-08, decay=0.0)\n",
        "\n",
        "model.compile(optimizer=adam, loss='categorical_crossentropy', metrics=['accuracy'])\n",
        "\n",
        "model.fit(train_X, train_y, batch_size=batch_size, epochs=epochs, verbose=1,\n",
        "          validation_data=(dev_X, dev_y))\n",
        "model.save(MODEL_FILE)\n",
        "\n",
        "prediction = model.predict(test_X, batch_size=batch_size, verbose=0)\n",
        "y_pred = prediction.argmax(axis=-1)\n",
        "\n",
        "cf1 = confusion_matrix(test_y, y_pred)\n",
        "print(cf1)\n",
        "\n",
        "evaluation = f1_score(test_y, y_pred, average='micro')\n",
        "\n",
        "print(\"F1 - micro: \" + str(evaluation))\n",
        "\n",
        "evaluation = f1_score(test_y, y_pred, average='macro')\n",
        "print(\"F1 - macro: \" + str(evaluation))\n",
        "\n",
        "evaluation = accuracy_score(test_y, y_pred)\n",
        "print(\"Accuracy: \" + str(evaluation))\n",
        "\n",
        "df_cm1 = pd.DataFrame(cf1, index = [\"clean\",\"offensive\",\"hate\"],\n",
        "                  columns = [\"clean\",\"offensive\",\"hate\"])\n",
        "plt.clf()\n",
        "sn.heatmap(df_cm1, annot=True, cmap=\"Greys\",fmt='g', cbar=True, annot_kws={\"size\": 30})"
      ],
      "metadata": {
        "id": "SG2JMQlQ-pHR",
        "colab": {
          "base_uri": "https://localhost:8080/",
          "height": 1000
        },
        "outputId": "a59a5d87-1396-4251-e7ba-5c7b84224eb6"
      },
      "execution_count": null,
      "outputs": [
        {
          "output_type": "stream",
          "name": "stdout",
          "text": [
            "Epoch 1/40\n"
          ]
        },
        {
          "output_type": "stream",
          "name": "stderr",
          "text": [
            "/usr/local/lib/python3.10/dist-packages/keras/optimizers/legacy/adam.py:117: UserWarning: The `lr` argument is deprecated, use `learning_rate` instead.\n",
            "  super().__init__(name, **kwargs)\n"
          ]
        },
        {
          "output_type": "stream",
          "name": "stdout",
          "text": [
            "23/23 [==============================] - 13s 66ms/step - loss: 1.0342 - accuracy: 0.5719 - val_loss: 0.9762 - val_accuracy: 0.7503\n",
            "Epoch 2/40\n",
            "23/23 [==============================] - 1s 25ms/step - loss: 0.9110 - accuracy: 0.7728 - val_loss: 0.8779 - val_accuracy: 0.7515\n",
            "Epoch 3/40\n",
            "23/23 [==============================] - 1s 24ms/step - loss: 0.8131 - accuracy: 0.7762 - val_loss: 0.7991 - val_accuracy: 0.7515\n",
            "Epoch 4/40\n",
            "23/23 [==============================] - 1s 24ms/step - loss: 0.7388 - accuracy: 0.7763 - val_loss: 0.7396 - val_accuracy: 0.7515\n",
            "Epoch 5/40\n",
            "23/23 [==============================] - 1s 26ms/step - loss: 0.6875 - accuracy: 0.7762 - val_loss: 0.6990 - val_accuracy: 0.7515\n",
            "Epoch 6/40\n",
            "23/23 [==============================] - 1s 31ms/step - loss: 0.6457 - accuracy: 0.7769 - val_loss: 0.6665 - val_accuracy: 0.7515\n",
            "Epoch 7/40\n",
            "23/23 [==============================] - 1s 30ms/step - loss: 0.6137 - accuracy: 0.7793 - val_loss: 0.6387 - val_accuracy: 0.7515\n",
            "Epoch 8/40\n",
            "23/23 [==============================] - 1s 28ms/step - loss: 0.5835 - accuracy: 0.7836 - val_loss: 0.6119 - val_accuracy: 0.7540\n",
            "Epoch 9/40\n",
            "23/23 [==============================] - 1s 27ms/step - loss: 0.5583 - accuracy: 0.7936 - val_loss: 0.5858 - val_accuracy: 0.7713\n",
            "Epoch 10/40\n",
            "23/23 [==============================] - 1s 29ms/step - loss: 0.5329 - accuracy: 0.8124 - val_loss: 0.5622 - val_accuracy: 0.7948\n",
            "Epoch 11/40\n",
            "23/23 [==============================] - 1s 28ms/step - loss: 0.5055 - accuracy: 0.8247 - val_loss: 0.5409 - val_accuracy: 0.8010\n",
            "Epoch 12/40\n",
            "23/23 [==============================] - 1s 26ms/step - loss: 0.4818 - accuracy: 0.8279 - val_loss: 0.5199 - val_accuracy: 0.8109\n",
            "Epoch 13/40\n",
            "23/23 [==============================] - 1s 27ms/step - loss: 0.4651 - accuracy: 0.8369 - val_loss: 0.5013 - val_accuracy: 0.8133\n",
            "Epoch 14/40\n",
            "23/23 [==============================] - 1s 25ms/step - loss: 0.4398 - accuracy: 0.8411 - val_loss: 0.4841 - val_accuracy: 0.8158\n",
            "Epoch 15/40\n",
            "23/23 [==============================] - 1s 22ms/step - loss: 0.4223 - accuracy: 0.8445 - val_loss: 0.4676 - val_accuracy: 0.8171\n",
            "Epoch 16/40\n",
            "23/23 [==============================] - 1s 27ms/step - loss: 0.4036 - accuracy: 0.8459 - val_loss: 0.4535 - val_accuracy: 0.8245\n",
            "Epoch 17/40\n",
            "23/23 [==============================] - 1s 27ms/step - loss: 0.3873 - accuracy: 0.8547 - val_loss: 0.4401 - val_accuracy: 0.8319\n",
            "Epoch 18/40\n",
            "23/23 [==============================] - 1s 35ms/step - loss: 0.3696 - accuracy: 0.8567 - val_loss: 0.4267 - val_accuracy: 0.8344\n",
            "Epoch 19/40\n",
            "23/23 [==============================] - 1s 28ms/step - loss: 0.3523 - accuracy: 0.8651 - val_loss: 0.4141 - val_accuracy: 0.8393\n",
            "Epoch 20/40\n",
            "23/23 [==============================] - 1s 26ms/step - loss: 0.3416 - accuracy: 0.8694 - val_loss: 0.4031 - val_accuracy: 0.8443\n",
            "Epoch 21/40\n",
            "23/23 [==============================] - 1s 30ms/step - loss: 0.3267 - accuracy: 0.8748 - val_loss: 0.3915 - val_accuracy: 0.8467\n",
            "Epoch 22/40\n",
            "23/23 [==============================] - 1s 25ms/step - loss: 0.3125 - accuracy: 0.8814 - val_loss: 0.3826 - val_accuracy: 0.8517\n",
            "Epoch 23/40\n",
            "23/23 [==============================] - 1s 26ms/step - loss: 0.3008 - accuracy: 0.8891 - val_loss: 0.3738 - val_accuracy: 0.8566\n",
            "Epoch 24/40\n",
            "23/23 [==============================] - 1s 24ms/step - loss: 0.2906 - accuracy: 0.8911 - val_loss: 0.3663 - val_accuracy: 0.8653\n",
            "Epoch 25/40\n",
            "23/23 [==============================] - 1s 23ms/step - loss: 0.2786 - accuracy: 0.8987 - val_loss: 0.3587 - val_accuracy: 0.8714\n",
            "Epoch 26/40\n",
            "23/23 [==============================] - 1s 28ms/step - loss: 0.2710 - accuracy: 0.8985 - val_loss: 0.3535 - val_accuracy: 0.8739\n",
            "Epoch 27/40\n",
            "23/23 [==============================] - 1s 26ms/step - loss: 0.2597 - accuracy: 0.9034 - val_loss: 0.3484 - val_accuracy: 0.8776\n",
            "Epoch 28/40\n",
            "23/23 [==============================] - 1s 24ms/step - loss: 0.2493 - accuracy: 0.9071 - val_loss: 0.3435 - val_accuracy: 0.8776\n",
            "Epoch 29/40\n",
            "23/23 [==============================] - 1s 24ms/step - loss: 0.2424 - accuracy: 0.9126 - val_loss: 0.3391 - val_accuracy: 0.8826\n",
            "Epoch 30/40\n",
            "23/23 [==============================] - 1s 24ms/step - loss: 0.2337 - accuracy: 0.9149 - val_loss: 0.3344 - val_accuracy: 0.8863\n",
            "Epoch 31/40\n",
            "23/23 [==============================] - 1s 25ms/step - loss: 0.2216 - accuracy: 0.9225 - val_loss: 0.3319 - val_accuracy: 0.8888\n",
            "Epoch 32/40\n",
            "23/23 [==============================] - 0s 21ms/step - loss: 0.2194 - accuracy: 0.9218 - val_loss: 0.3289 - val_accuracy: 0.8863\n",
            "Epoch 33/40\n",
            "23/23 [==============================] - 1s 26ms/step - loss: 0.2088 - accuracy: 0.9280 - val_loss: 0.3266 - val_accuracy: 0.8888\n",
            "Epoch 34/40\n",
            "23/23 [==============================] - 1s 24ms/step - loss: 0.2048 - accuracy: 0.9274 - val_loss: 0.3237 - val_accuracy: 0.8912\n",
            "Epoch 35/40\n",
            "23/23 [==============================] - 0s 21ms/step - loss: 0.1973 - accuracy: 0.9343 - val_loss: 0.3228 - val_accuracy: 0.8900\n",
            "Epoch 36/40\n",
            "23/23 [==============================] - 1s 23ms/step - loss: 0.1879 - accuracy: 0.9352 - val_loss: 0.3238 - val_accuracy: 0.8875\n",
            "Epoch 37/40\n",
            "23/23 [==============================] - 0s 17ms/step - loss: 0.1825 - accuracy: 0.9407 - val_loss: 0.3215 - val_accuracy: 0.8875\n",
            "Epoch 38/40\n",
            "23/23 [==============================] - 0s 19ms/step - loss: 0.1789 - accuracy: 0.9419 - val_loss: 0.3200 - val_accuracy: 0.8888\n",
            "Epoch 39/40\n",
            "23/23 [==============================] - 0s 17ms/step - loss: 0.1731 - accuracy: 0.9409 - val_loss: 0.3215 - val_accuracy: 0.8863\n",
            "Epoch 40/40\n",
            "23/23 [==============================] - 0s 17ms/step - loss: 0.1634 - accuracy: 0.9460 - val_loss: 0.3204 - val_accuracy: 0.8888\n",
            "[[1251   15    4]\n",
            " [  61  164   13]\n",
            " [  52   29   30]]\n",
            "F1 - micro: 0.8925262507720816\n",
            "F1 - macro: 0.6883529830650823\n",
            "Accuracy: 0.8925262507720816\n"
          ]
        },
        {
          "output_type": "execute_result",
          "data": {
            "text/plain": [
              "<Axes: >"
            ]
          },
          "metadata": {},
          "execution_count": 13
        },
        {
          "output_type": "display_data",
          "data": {
            "text/plain": [
              "<Figure size 640x480 with 2 Axes>"
            ],
            "image/png": "[encoded data removed]"
          },
          "metadata": {}
        }
      ]
    },
    {
      "cell_type": "code",
      "source": [
        "for i in range(len(y_pred)):\n",
        "    if y_pred[i] != test_y[i]:\n",
        "      print(test_data['Comment'][i], '|',y_pred[i] , '|', test_y[i])"
      ],
      "metadata": {
        "colab": {
          "base_uri": "https://localhost:8080/"
        },
        "id": "Ki594S4Nd4A3",
        "outputId": "e7da08ec-3a84-4212-9428-ecd95b9b5d8c"
      },
      "execution_count": null,
      "outputs": [
        {
          "output_type": "stream",
          "name": "stdout",
          "text": [
            "se mấy bữa_nay giả fan trung_lập đi nhục kinh lắm | 0 | 2\n",
            "bình_luận_viên hơi lạnh phải🤣🤣🤣 | 0 | 2\n",
            "híu thảo đồ | 0 | 2\n",
            "who need dev 1 ve: v | 0 | 2\n",
            "mày đánh lux cặc | 0 | 2\n",
            "??? huy bú | 0 | 2\n",
            "đặc cầu | 0 | 1\n",
            "aduvipwa | 0 | 1\n",
            "bé đần =]] | 1 | 2\n",
            "zeus non học 369:)))) | 0 | 2\n",
            "ys cặc | 1 | 2\n",
            "2 đội gà v | 0 | 2\n",
            "bọn như cặc già | 1 | 0\n",
            "rên đi | 0 | 1\n",
            "mẹ dink 140 | 0 | 1\n",
            "nizy nhon vãi lồn =)) | 1 | 2\n",
            "mấy hề đánh | 0 | 2\n",
            "quang hải thịt trih trâu | 0 | 2\n",
            "cưỡi con_bé awesome | 0 | 2\n",
            "duma rừng | 0 | 1\n",
            "sài_gòn lạnh chúng_mày chẳng hiểu sao đá | 0 | 2\n",
            "red hút đá s | 0 | 2\n",
            "lồn out trình sea | 1 | 0\n",
            "đạn, firerate chậm, giật, spam lộ đường_đạn... như cặc cân_bằng. rito said: d | 1 | 0\n",
            "ngu câm | 2 | 1\n",
            "moá đánh bắt | 0 | 1\n",
            "na hành máy quen =)) | 0 | 2\n",
            "diana điên | 1 | 2\n",
            "mẹ sp hoài | 0 | 1\n",
            "lê khánh vô_học | 0 | 2\n",
            "chấn bé đù | 1 | 2\n",
            "vcs rác | 1 | 2\n",
            "ngài điên | 1 | 2\n",
            "quốc nhục gân đàm | 0 | 1\n",
            "lồn magnus xoay vòng | 0 | 1\n",
            "200 ntr clgt awesome | 0 | 1\n",
            "đi rừng ngu nh chó | 2 | 1\n",
            "trụ rồng, chiến_thuật bọn gân đàm | 0 | 2\n",
            "địt mẹ ghép ghép 3 đấy awesome | 0 | 1\n",
            "mé tara ghê | 0 | 1\n",
            "ana ngáo đá | 1 | 2\n",
            "đụ_mẹ riết toàn đàn_bà game | 2 | 1\n",
            "đùu | 0 | 1\n",
            "đánh ngu thế_này ff | 2 | 1\n",
            "móc con mẹ mày view se tao gam | 2 | 1\n",
            "tật ác | 0 | 1\n",
            "thắng vua, thua se sủa | 0 | 2\n",
            "kênh chat toàn trẻ trâu chấp | 0 | 2\n",
            "tao chậm chạy lồn | 0 | 1\n",
            "dcm | 0 | 1\n",
            "đái quần | 1 | 0\n",
            "admin xong top 2 ngáo | 0 | 2\n",
            "gân đàm đái é é é | 0 | 1\n",
            "mẹ tưởng gọi | 1 | 0\n",
            "giọng thương vãi =))) | 1 | 0\n",
            "duyên_dáng đánh kém vãi lồn | 1 | 2\n",
            "đéo đi đẩy trụ | 0 | 1\n",
            "địt_mẹ mày | 1 | 2\n",
            "kẹ mịa team đi ngài farm gánh | 0 | 1\n",
            "bá đần gánh team | 2 | 1\n",
            "kênh chat bẩn | 0 | 2\n",
            "2 subs bảo sấp mặt lờ | 0 | 1\n",
            ":)) bọn comment chiêu anet chửi red | 0 | 2\n",
            "nhục | 0 | 1\n",
            "clma pr | 0 | 1\n",
            "neon vo hoc | 0 | 2\n",
            "pick ẻn zo đi bồn lình | 2 | 0\n",
            "chào condilon híu | 0 | 2\n",
            "giết gay | 0 | 1\n",
            "pd đcm:)) | 0 | 1\n",
            "toàn bọn vô hăn hoá chat | 0 | 2\n",
            "đnáh dốt pha | 1 | 2\n",
            "chào coi condilon | 0 | 1\n",
            "khanhbeo an cut khanhbeo ancut | 0 | 2\n",
            "híu dễ_thương boà tr:)) | 0 | 2\n",
            "vãi đi đánh xong thua eco | 0 | 1\n",
            "maky múa kinh vkl | 0 | 2\n",
            "g2 đánh cặc??? | 1 | 2\n",
            "dám pick medu, chả pick am vã mồm | 0 | 1\n",
            "rừng đéo rồng ngu | 2 | 1\n",
            "mẹ sp s1 s2 | 1 | 0\n",
            "gậy wukong xong địt mẹ | 0 | 1\n",
            "d hieu:)) | 0 | 1\n",
            "gáy hề 2 dỡ | 0 | 1\n",
            "lông | 0 | 1\n",
            "rank việt cao_thủ toàn gà, xoá gảm đi | 0 | 2\n",
            "ly da xấu nhở | 0 | 2\n",
            "mù mắt | 0 | 1\n",
            "dú dú dú anh em oi | 0 | 2\n",
            "cơ_bắp | 0 | 2\n",
            "view ff đéo 1 góc lq | 1 | 2\n",
            "ly lép anh em | 0 | 2\n",
            "dí cạc | 0 | 1\n",
            "sp butter gà vãi cặc | 1 | 2\n",
            "thằng ngu sủa lắm 1 5 cdm | 2 | 1\n",
            "đù | 0 | 1\n",
            "xam làm gì ha =)) | 0 | 1\n",
            "đéo tryhard =)) giải từ_thiện bắn tryhard =)) | 0 | 1\n",
            "nauti kinred đù vãi cặc | 1 | 2\n",
            "ma vuong suyt như cặc ngoai` day | 1 | 0\n",
            "vãi lồn đánh thở bình oxi =)) | 1 | 2\n",
            "mana cút awesome | 0 | 1\n",
            "mấy đứa bảo fan blg chẳng_qua anti-fan geng, mấy gà, 3-0 geng | 0 | 2\n",
            "bố_láo | 0 | 1\n",
            "blv lưỡi ngắn | 0 | 2\n",
            "lạ gáy | 0 | 1\n",
            "game liên_quân trẻ trâu hiểu_biết. nhăn cuội, chả.:)) | 0 | 2\n",
            "best zed mẹ phản_xạ smite nể | 0 | 1\n",
            "duma top | 0 | 1\n",
            "mé bùn ngủ vãi | 0 | 1\n",
            "vinhcs chán vãi lồn, lck lpl chuyên_môn, văn tùng phân_tích sâu =)) | 2 | 1\n",
            "set ngài hơi phèn | 0 | 2\n",
            "ngu lắm | 2 | 1\n",
            "nhạc đb\\ | 0 | 1\n",
            "d 'động vao no | 0 | 1\n",
            "rẻ_mạt | 0 | 1\n",
            "mịa crazyguy_bảo | 0 | 1\n",
            "đéo | 1 | 0\n",
            "yado đánh_đấm quần què | 0 | 2\n",
            "hùng bú win hơi | 1 | 2\n",
            "deo bat untl | 0 | 1\n",
            "vô văn_hoá | 0 | 1\n",
            "mid tao bảo may lồn | 1 | 2\n",
            "se lck đánh lồn view gam đánh rôi: v | 1 | 0\n",
            "lồn rừng | 1 | 2\n",
            "an cuc | 0 | 1\n",
            "lyly mặc bì al | 2 | 0\n",
            "lpl trung bán_độ máy_cày =)) | 0 | 2\n",
            "tró lày:)) | 0 | 2\n",
            "rác | 0 | 1\n",
            "ngài điên mẹ | 1 | 2\n",
            "chương_trình truyền_hình mạng chửi thề tư_cách hả tùng | 0 | 2\n",
            "blg khéo vô_địch đội nhánh gam auto vô_địch, bùa lợi vcs vãi lồn | 1 | 2\n",
            "ngu học | 2 | 1\n",
            "mấy thánh sủa bậy | 2 | 0\n",
            "se ác vãi lồn toàn se hy_vọng | 1 | 2\n",
            "cú bu mèo đi híu | 0 | 2\n",
            "phế chết thay | 0 | 1\n",
            "ren đần sút | 1 | 2\n",
            "chán vãi lồn | 1 | 2\n",
            "trình gáy kinh lắm. thua đổ thừa vòng_vo bo, map tủ, quen meta.... cười ỉa. hứa. củ | 0 | 1\n",
            "trận win ta awesome tí omni nấp bụi buff buff cái lồn giết medusawesome | 0 | 1\n",
            "lồn medusa hack tiền | 0 | 2\n",
            "moá sp lolz | 0 | 2\n",
            "kda rác vãi cặc | 1 | 2\n",
            "câm | 0 | 1\n",
            "cơm chó? | 1 | 0\n",
            "đá trứng cút hai blv đi híu | 0 | 2\n",
            "vlin mấy g2:)) | 0 | 2\n",
            "kênh chat mất_dạy vãi lồn:)) | 2 | 1\n",
            "bai tổn luồi | 0 | 2\n",
            "giáp ct hn đần v | 0 | 2\n",
            "mẹ thả 3 | 1 | 0\n",
            "ngai` thi` cax nao hanh`:))) | 0 | 2\n",
            "mid kỹ_năng, đi bú rừng | 0 | 2\n",
            "vng làm_ăn cặc | 1 | 2\n",
            "mẹ | 1 | 0\n",
            "vai biu kèo hồi xưa | 0 | 1\n",
            "vãi | 1 | 0\n",
            "rắn thành giun | 0 | 1\n",
            "mẹ | 1 | 0\n",
            "admin target xàm lồn | 2 | 1\n",
            "trình 36đái | 0 | 1\n",
            "game sủa | 0 | 1\n",
            "t1ngu vãi cặc, pick nauti toàn thua pick tiếp | 1 | 2\n",
            "tướng xấu vãi cả lồn | 1 | 2\n",
            "sủa lồn mẹ mày | 1 | 2\n",
            "m choi da | 0 | 2\n",
            ". gáy đi:))) | 0 | 1\n",
            "cứu kanavi thọt con_mẹ: v | 0 | 1\n",
            "gánh ngu | 0 | 1\n",
            "2 thằng blv đống rác liên_quân v?? | 0 | 2\n",
            "nguyên cỏ thằng trẻ_con học_đòi sơn lambo | 0 | 2\n",
            "đậu đần vai tôn ngộ 7749 kiếp nạn gengu | 2 | 0\n"
          ]
        }
      ]
    }
  ],
  "metadata": {
    "accelerator": "GPU",
    "colab": {
      "collapsed_sections": [
        "M81n5YJfXhi3"
      ],
      "machine_shape": "hm",
      "provenance": [],
      "gpuType": "T4"
    },
    "kernelspec": {
      "display_name": "Python 3",
      "name": "python3"
    },
    "language_info": {
      "codemirror_mode": {
        "name": "ipython",
        "version": 3
      },
      "file_extension": ".py",
      "mimetype": "text/x-python",
      "name": "python",
      "nbconvert_exporter": "python",
      "pygments_lexer": "ipython3",
      "version": "3.7.7"
    }
  },
  "nbformat": 4,
  "nbformat_minor": 0
}