{
  "nbformat": 4,
  "nbformat_minor": 0,
  "metadata": {
    "colab": {
      "provenance": []
    },
    "kernelspec": {
      "name": "python3",
      "display_name": "Python 3"
    },
    "language_info": {
      "name": "python"
    }
  },
  "cells": [
    {
      "cell_type": "markdown",
      "source": [
        "# Cài đặt các thư viện cần thiết"
      ],
      "metadata": {
        "id": "daV-K1yyYlMH"
      }
    },
    {
      "cell_type": "code",
      "source": [
        "import pandas as pd\n",
        "from sklearn.ensemble import RandomForestClassifier\n",
        "from sklearn.feature_extraction.text import TfidfVectorizer\n",
        "from sklearn.impute import SimpleImputer\n",
        "from sklearn.pipeline import Pipeline\n",
        "from xgboost import XGBClassifier\n",
        "from sklearn.svm import SVC\n",
        "from sklearn.metrics import classification_report, confusion_matrix,accuracy_score,precision_score, recall_score, f1_score\n",
        "import matplotlib.pyplot as plt\n",
        "import seaborn as sn"
      ],
      "metadata": {
        "id": "WOsBH1416KK-"
      },
      "execution_count": null,
      "outputs": []
    },
    {
      "cell_type": "code",
      "source": [
        "!git clone https://github.com/Honf03/CS114_Data_Final.git\n"
      ],
      "metadata": {
        "colab": {
          "base_uri": "https://localhost:8080/"
        },
        "id": "IedFVtHsDe0c",
        "outputId": "c9e18db0-7c75-4804-da24-0e0a14e437e5"
      },
      "execution_count": null,
      "outputs": [
        {
          "output_type": "stream",
          "name": "stdout",
          "text": [
            "Cloning into 'CS114_Data_Final'...\n",
            "remote: Enumerating objects: 13, done.\u001b[K\n",
            "remote: Counting objects: 100% (13/13), done.\u001b[K\n",
            "remote: Compressing objects: 100% (11/11), done.\u001b[K\n",
            "remote: Total 13 (delta 4), reused 10 (delta 1), pack-reused 0\u001b[K\n",
            "Unpacking objects: 100% (13/13), 131.16 KiB | 1.85 MiB/s, done.\n"
          ]
        }
      ]
    },
    {
      "cell_type": "code",
      "source": [
        "!git pull origin main"
      ],
      "metadata": {
        "colab": {
          "base_uri": "https://localhost:8080/"
        },
        "id": "SNBAvIM5lNeh",
        "outputId": "813415de-11ef-4863-f15e-b9a2a1ac11ce"
      },
      "execution_count": null,
      "outputs": [
        {
          "output_type": "stream",
          "name": "stdout",
          "text": [
            "fatal: not a git repository (or any of the parent directories): .git\n"
          ]
        }
      ]
    },
    {
      "cell_type": "code",
      "source": [
        "import pandas as pd\n",
        "import numpy as np"
      ],
      "metadata": {
        "id": "K6xx_SD3b-I_"
      },
      "execution_count": null,
      "outputs": []
    },
    {
      "cell_type": "markdown",
      "source": [
        "# Dữ liệu của nhóm"
      ],
      "metadata": {
        "id": "RkzRQteCYelw"
      }
    },
    {
      "cell_type": "code",
      "source": [
        "train_data = pd.read_csv('/content/CS114_Data_Final/train.csv')\n",
        "val_data = pd.read_csv('/content/CS114_Data_Final/val.csv')\n",
        "test_data = pd.read_csv('/content/CS114_Data_Final/test.csv')\n"
      ],
      "metadata": {
        "id": "-9a4vjIOcC9g"
      },
      "execution_count": null,
      "outputs": []
    },
    {
      "cell_type": "code",
      "source": [
        "train_data.head()"
      ],
      "metadata": {
        "colab": {
          "base_uri": "https://localhost:8080/",
          "height": 206
        },
        "id": "o07Zf5avcLQY",
        "outputId": "b2941288-4706-48a6-b4b6-53cd4b490a87"
      },
      "execution_count": null,
      "outputs": [
        {
          "output_type": "execute_result",
          "data": {
            "text/plain": [
              "   Unnamed: 0.1  Unnamed: 0   No.  \\\n",
              "0           259         259   260   \n",
              "1          1070        1070  1071   \n",
              "2          1531        1531  1532   \n",
              "3          1971        1971  1972   \n",
              "4          2210        2210  2211   \n",
              "\n",
              "                                             Comment  Label  \n",
              "0                                    giàu vãi cả lồn      1  \n",
              "1                                                  g      0  \n",
              "2                                     rikaki hq buồn      0  \n",
              "3  hq thế_giới non lắm, sự_thật đi cháu, vô_địch ...      0  \n",
              "4                              khoa quánh veres t sợ      0  "
            ],
            "text/html": [
              "\n",
              "  <div id=\"df-b50ff043-cfa7-4872-a34b-df659c69c310\">\n",
              "    <div class=\"colab-df-container\">\n",
              "      <div>\n",
              "<style scoped>\n",
              "    .dataframe tbody tr th:only-of-type {\n",
              "        vertical-align: middle;\n",
              "    }\n",
              "\n",
              "    .dataframe tbody tr th {\n",
              "        vertical-align: top;\n",
              "    }\n",
              "\n",
              "    .dataframe thead th {\n",
              "        text-align: right;\n",
              "    }\n",
              "</style>\n",
              "<table border=\"1\" class=\"dataframe\">\n",
              "  <thead>\n",
              "    <tr style=\"text-align: right;\">\n",
              "      <th></th>\n",
              "      <th>Unnamed: 0.1</th>\n",
              "      <th>Unnamed: 0</th>\n",
              "      <th>No.</th>\n",
              "      <th>Comment</th>\n",
              "      <th>Label</th>\n",
              "    </tr>\n",
              "  </thead>\n",
              "  <tbody>\n",
              "    <tr>\n",
              "      <th>0</th>\n",
              "      <td>259</td>\n",
              "      <td>259</td>\n",
              "      <td>260</td>\n",
              "      <td>giàu vãi cả lồn</td>\n",
              "      <td>1</td>\n",
              "    </tr>\n",
              "    <tr>\n",
              "      <th>1</th>\n",
              "      <td>1070</td>\n",
              "      <td>1070</td>\n",
              "      <td>1071</td>\n",
              "      <td>g</td>\n",
              "      <td>0</td>\n",
              "    </tr>\n",
              "    <tr>\n",
              "      <th>2</th>\n",
              "      <td>1531</td>\n",
              "      <td>1531</td>\n",
              "      <td>1532</td>\n",
              "      <td>rikaki hq buồn</td>\n",
              "      <td>0</td>\n",
              "    </tr>\n",
              "    <tr>\n",
              "      <th>3</th>\n",
              "      <td>1971</td>\n",
              "      <td>1971</td>\n",
              "      <td>1972</td>\n",
              "      <td>hq thế_giới non lắm, sự_thật đi cháu, vô_địch ...</td>\n",
              "      <td>0</td>\n",
              "    </tr>\n",
              "    <tr>\n",
              "      <th>4</th>\n",
              "      <td>2210</td>\n",
              "      <td>2210</td>\n",
              "      <td>2211</td>\n",
              "      <td>khoa quánh veres t sợ</td>\n",
              "      <td>0</td>\n",
              "    </tr>\n",
              "  </tbody>\n",
              "</table>\n",
              "</div>\n",
              "      <button class=\"colab-df-convert\" onclick=\"convertToInteractive('df-b50ff043-cfa7-4872-a34b-df659c69c310')\"\n",
              "              title=\"Convert this dataframe to an interactive table.\"\n",
              "              style=\"display:none;\">\n",
              "        \n",
              "  <svg xmlns=\"http://www.w3.org/2000/svg\" height=\"24px\"viewBox=\"0 0 24 24\"\n",
              "       width=\"24px\">\n",
              "    <path d=\"M0 0h24v24H0V0z\" fill=\"none\"/>\n",
              "    <path d=\"M18.56 5.44l.94 2.06.94-2.06 2.06-.94-2.06-.94-.94-2.06-.94 2.06-2.06.94zm-11 1L8.5 8.5l.94-2.06 2.06-.94-2.06-.94L8.5 2.5l-.94 2.06-2.06.94zm10 10l.94 2.06.94-2.06 2.06-.94-2.06-.94-.94-2.06-.94 2.06-2.06.94z\"/><path d=\"M17.41 7.96l-1.37-1.37c-.4-.4-.92-.59-1.43-.59-.52 0-1.04.2-1.43.59L10.3 9.45l-7.72 7.72c-.78.78-.78 2.05 0 2.83L4 21.41c.39.39.9.59 1.41.59.51 0 1.02-.2 1.41-.59l7.78-7.78 2.81-2.81c.8-.78.8-2.07 0-2.86zM5.41 20L4 18.59l7.72-7.72 1.47 1.35L5.41 20z\"/>\n",
              "  </svg>\n",
              "      </button>\n",
              "      \n",
              "  <style>\n",
              "    .colab-df-container {\n",
              "      display:flex;\n",
              "      flex-wrap:wrap;\n",
              "      gap: 12px;\n",
              "    }\n",
              "\n",
              "    .colab-df-convert {\n",
              "      background-color: #E8F0FE;\n",
              "      border: none;\n",
              "      border-radius: 50%;\n",
              "      cursor: pointer;\n",
              "      display: none;\n",
              "      fill: #1967D2;\n",
              "      height: 32px;\n",
              "      padding: 0 0 0 0;\n",
              "      width: 32px;\n",
              "    }\n",
              "\n",
              "    .colab-df-convert:hover {\n",
              "      background-color: #E2EBFA;\n",
              "      box-shadow: 0px 1px 2px rgba(60, 64, 67, 0.3), 0px 1px 3px 1px rgba(60, 64, 67, 0.15);\n",
              "      fill: #174EA6;\n",
              "    }\n",
              "\n",
              "    [theme=dark] .colab-df-convert {\n",
              "      background-color: #3B4455;\n",
              "      fill: #D2E3FC;\n",
              "    }\n",
              "\n",
              "    [theme=dark] .colab-df-convert:hover {\n",
              "      background-color: #434B5C;\n",
              "      box-shadow: 0px 1px 3px 1px rgba(0, 0, 0, 0.15);\n",
              "      filter: drop-shadow(0px 1px 2px rgba(0, 0, 0, 0.3));\n",
              "      fill: #FFFFFF;\n",
              "    }\n",
              "  </style>\n",
              "\n",
              "      <script>\n",
              "        const buttonEl =\n",
              "          document.querySelector('#df-b50ff043-cfa7-4872-a34b-df659c69c310 button.colab-df-convert');\n",
              "        buttonEl.style.display =\n",
              "          google.colab.kernel.accessAllowed ? 'block' : 'none';\n",
              "\n",
              "        async function convertToInteractive(key) {\n",
              "          const element = document.querySelector('#df-b50ff043-cfa7-4872-a34b-df659c69c310');\n",
              "          const dataTable =\n",
              "            await google.colab.kernel.invokeFunction('convertToInteractive',\n",
              "                                                     [key], {});\n",
              "          if (!dataTable) return;\n",
              "\n",
              "          const docLinkHtml = 'Like what you see? Visit the ' +\n",
              "            '<a target=\"_blank\" href=https://colab.research.google.com/notebooks/data_table.ipynb>data table notebook</a>'\n",
              "            + ' to learn more about interactive tables.';\n",
              "          element.innerHTML = '';\n",
              "          dataTable['output_type'] = 'display_data';\n",
              "          await google.colab.output.renderOutput(dataTable, element);\n",
              "          const docLink = document.createElement('div');\n",
              "          docLink.innerHTML = docLinkHtml;\n",
              "          element.appendChild(docLink);\n",
              "        }\n",
              "      </script>\n",
              "    </div>\n",
              "  </div>\n",
              "  "
            ]
          },
          "metadata": {},
          "execution_count": 13
        }
      ]
    },
    {
      "cell_type": "markdown",
      "source": [
        "# Xóa những cột không cần thiết"
      ],
      "metadata": {
        "id": "4BZSxb1hYxfe"
      }
    },
    {
      "cell_type": "code",
      "source": [
        "train_data.drop(train_data.columns[[0, 1, 2]], axis=1, inplace=True)\n",
        "val_data.drop(val_data.columns[[0, 1, 2]], axis=1, inplace=True)\n",
        "test_data.drop(test_data.columns[[0, 1, 2]], axis=1, inplace=True)"
      ],
      "metadata": {
        "id": "lALZlCWEcV4M"
      },
      "execution_count": null,
      "outputs": []
    },
    {
      "cell_type": "code",
      "source": [
        "val_data"
      ],
      "metadata": {
        "colab": {
          "base_uri": "https://localhost:8080/",
          "height": 423
        },
        "id": "trRLvvk8YUhk",
        "outputId": "c940df3f-1566-42ac-a557-6e2c8485e6c8"
      },
      "execution_count": null,
      "outputs": [
        {
          "output_type": "execute_result",
          "data": {
            "text/plain": [
              "                                               Comment  Label\n",
              "0                                      1010 sp 12 10ad      0\n",
              "1                                                 7 mr      0\n",
              "2    hở tí học_sinh cúp học net: v tuần nghỉ lí_do net      0\n",
              "3                                                  sặc      0\n",
              "4                                         bo5 đấy hoài      0\n",
              "..                                                 ...    ...\n",
              "804                                        ảo game bro      2\n",
              "805                          oai boài game sủa súc_vật      2\n",
              "806                           kêu bac tổn luồi chết mm      2\n",
              "807                                        chược nguột      0\n",
              "808                                                NaN      0\n",
              "\n",
              "[809 rows x 2 columns]"
            ],
            "text/html": [
              "\n",
              "  <div id=\"df-45f7b6a8-61fd-46c2-9619-b62c73c166ce\">\n",
              "    <div class=\"colab-df-container\">\n",
              "      <div>\n",
              "<style scoped>\n",
              "    .dataframe tbody tr th:only-of-type {\n",
              "        vertical-align: middle;\n",
              "    }\n",
              "\n",
              "    .dataframe tbody tr th {\n",
              "        vertical-align: top;\n",
              "    }\n",
              "\n",
              "    .dataframe thead th {\n",
              "        text-align: right;\n",
              "    }\n",
              "</style>\n",
              "<table border=\"1\" class=\"dataframe\">\n",
              "  <thead>\n",
              "    <tr style=\"text-align: right;\">\n",
              "      <th></th>\n",
              "      <th>Comment</th>\n",
              "      <th>Label</th>\n",
              "    </tr>\n",
              "  </thead>\n",
              "  <tbody>\n",
              "    <tr>\n",
              "      <th>0</th>\n",
              "      <td>1010 sp 12 10ad</td>\n",
              "      <td>0</td>\n",
              "    </tr>\n",
              "    <tr>\n",
              "      <th>1</th>\n",
              "      <td>7 mr</td>\n",
              "      <td>0</td>\n",
              "    </tr>\n",
              "    <tr>\n",
              "      <th>2</th>\n",
              "      <td>hở tí học_sinh cúp học net: v tuần nghỉ lí_do net</td>\n",
              "      <td>0</td>\n",
              "    </tr>\n",
              "    <tr>\n",
              "      <th>3</th>\n",
              "      <td>sặc</td>\n",
              "      <td>0</td>\n",
              "    </tr>\n",
              "    <tr>\n",
              "      <th>4</th>\n",
              "      <td>bo5 đấy hoài</td>\n",
              "      <td>0</td>\n",
              "    </tr>\n",
              "    <tr>\n",
              "      <th>...</th>\n",
              "      <td>...</td>\n",
              "      <td>...</td>\n",
              "    </tr>\n",
              "    <tr>\n",
              "      <th>804</th>\n",
              "      <td>ảo game bro</td>\n",
              "      <td>2</td>\n",
              "    </tr>\n",
              "    <tr>\n",
              "      <th>805</th>\n",
              "      <td>oai boài game sủa súc_vật</td>\n",
              "      <td>2</td>\n",
              "    </tr>\n",
              "    <tr>\n",
              "      <th>806</th>\n",
              "      <td>kêu bac tổn luồi chết mm</td>\n",
              "      <td>2</td>\n",
              "    </tr>\n",
              "    <tr>\n",
              "      <th>807</th>\n",
              "      <td>chược nguột</td>\n",
              "      <td>0</td>\n",
              "    </tr>\n",
              "    <tr>\n",
              "      <th>808</th>\n",
              "      <td>NaN</td>\n",
              "      <td>0</td>\n",
              "    </tr>\n",
              "  </tbody>\n",
              "</table>\n",
              "<p>809 rows × 2 columns</p>\n",
              "</div>\n",
              "      <button class=\"colab-df-convert\" onclick=\"convertToInteractive('df-45f7b6a8-61fd-46c2-9619-b62c73c166ce')\"\n",
              "              title=\"Convert this dataframe to an interactive table.\"\n",
              "              style=\"display:none;\">\n",
              "        \n",
              "  <svg xmlns=\"http://www.w3.org/2000/svg\" height=\"24px\"viewBox=\"0 0 24 24\"\n",
              "       width=\"24px\">\n",
              "    <path d=\"M0 0h24v24H0V0z\" fill=\"none\"/>\n",
              "    <path d=\"M18.56 5.44l.94 2.06.94-2.06 2.06-.94-2.06-.94-.94-2.06-.94 2.06-2.06.94zm-11 1L8.5 8.5l.94-2.06 2.06-.94-2.06-.94L8.5 2.5l-.94 2.06-2.06.94zm10 10l.94 2.06.94-2.06 2.06-.94-2.06-.94-.94-2.06-.94 2.06-2.06.94z\"/><path d=\"M17.41 7.96l-1.37-1.37c-.4-.4-.92-.59-1.43-.59-.52 0-1.04.2-1.43.59L10.3 9.45l-7.72 7.72c-.78.78-.78 2.05 0 2.83L4 21.41c.39.39.9.59 1.41.59.51 0 1.02-.2 1.41-.59l7.78-7.78 2.81-2.81c.8-.78.8-2.07 0-2.86zM5.41 20L4 18.59l7.72-7.72 1.47 1.35L5.41 20z\"/>\n",
              "  </svg>\n",
              "      </button>\n",
              "      \n",
              "  <style>\n",
              "    .colab-df-container {\n",
              "      display:flex;\n",
              "      flex-wrap:wrap;\n",
              "      gap: 12px;\n",
              "    }\n",
              "\n",
              "    .colab-df-convert {\n",
              "      background-color: #E8F0FE;\n",
              "      border: none;\n",
              "      border-radius: 50%;\n",
              "      cursor: pointer;\n",
              "      display: none;\n",
              "      fill: #1967D2;\n",
              "      height: 32px;\n",
              "      padding: 0 0 0 0;\n",
              "      width: 32px;\n",
              "    }\n",
              "\n",
              "    .colab-df-convert:hover {\n",
              "      background-color: #E2EBFA;\n",
              "      box-shadow: 0px 1px 2px rgba(60, 64, 67, 0.3), 0px 1px 3px 1px rgba(60, 64, 67, 0.15);\n",
              "      fill: #174EA6;\n",
              "    }\n",
              "\n",
              "    [theme=dark] .colab-df-convert {\n",
              "      background-color: #3B4455;\n",
              "      fill: #D2E3FC;\n",
              "    }\n",
              "\n",
              "    [theme=dark] .colab-df-convert:hover {\n",
              "      background-color: #434B5C;\n",
              "      box-shadow: 0px 1px 3px 1px rgba(0, 0, 0, 0.15);\n",
              "      filter: drop-shadow(0px 1px 2px rgba(0, 0, 0, 0.3));\n",
              "      fill: #FFFFFF;\n",
              "    }\n",
              "  </style>\n",
              "\n",
              "      <script>\n",
              "        const buttonEl =\n",
              "          document.querySelector('#df-45f7b6a8-61fd-46c2-9619-b62c73c166ce button.colab-df-convert');\n",
              "        buttonEl.style.display =\n",
              "          google.colab.kernel.accessAllowed ? 'block' : 'none';\n",
              "\n",
              "        async function convertToInteractive(key) {\n",
              "          const element = document.querySelector('#df-45f7b6a8-61fd-46c2-9619-b62c73c166ce');\n",
              "          const dataTable =\n",
              "            await google.colab.kernel.invokeFunction('convertToInteractive',\n",
              "                                                     [key], {});\n",
              "          if (!dataTable) return;\n",
              "\n",
              "          const docLinkHtml = 'Like what you see? Visit the ' +\n",
              "            '<a target=\"_blank\" href=https://colab.research.google.com/notebooks/data_table.ipynb>data table notebook</a>'\n",
              "            + ' to learn more about interactive tables.';\n",
              "          element.innerHTML = '';\n",
              "          dataTable['output_type'] = 'display_data';\n",
              "          await google.colab.output.renderOutput(dataTable, element);\n",
              "          const docLink = document.createElement('div');\n",
              "          docLink.innerHTML = docLinkHtml;\n",
              "          element.appendChild(docLink);\n",
              "        }\n",
              "      </script>\n",
              "    </div>\n",
              "  </div>\n",
              "  "
            ]
          },
          "metadata": {},
          "execution_count": 15
        }
      ]
    },
    {
      "cell_type": "markdown",
      "source": [
        "Chuyển dữ liệu sang kiểu dữ liệu str"
      ],
      "metadata": {
        "id": "NyYUsrfaY2l8"
      }
    },
    {
      "cell_type": "code",
      "source": [
        "train_data['Comment'] = train_data['Comment'].astype(str)\n",
        "test_data['Comment'] = test_data['Comment'].astype(str)"
      ],
      "metadata": {
        "id": "VwlH0Ax1dnuV"
      },
      "execution_count": null,
      "outputs": []
    },
    {
      "cell_type": "code",
      "source": [
        "test_data.head()"
      ],
      "metadata": {
        "colab": {
          "base_uri": "https://localhost:8080/",
          "height": 206
        },
        "id": "476mLZpWekZc",
        "outputId": "2844d4c5-0537-490d-f682-5dacbbe9f102"
      },
      "execution_count": null,
      "outputs": [
        {
          "output_type": "execute_result",
          "data": {
            "text/plain": [
              "                                             Comment  Label\n",
              "0                                                 kệ      0\n",
              "1  se mấy bữa_nay giả fan trung_lập đi nhục kinh lắm      2\n",
              "2                                                nan      0\n",
              "3                                         thầy cổ_vũ      0\n",
              "4                    bình_luận_viên hơi lạnh phải🤣🤣🤣      2"
            ],
            "text/html": [
              "\n",
              "  <div id=\"df-2e768458-0c41-4a07-b0f6-8854bcaf8389\">\n",
              "    <div class=\"colab-df-container\">\n",
              "      <div>\n",
              "<style scoped>\n",
              "    .dataframe tbody tr th:only-of-type {\n",
              "        vertical-align: middle;\n",
              "    }\n",
              "\n",
              "    .dataframe tbody tr th {\n",
              "        vertical-align: top;\n",
              "    }\n",
              "\n",
              "    .dataframe thead th {\n",
              "        text-align: right;\n",
              "    }\n",
              "</style>\n",
              "<table border=\"1\" class=\"dataframe\">\n",
              "  <thead>\n",
              "    <tr style=\"text-align: right;\">\n",
              "      <th></th>\n",
              "      <th>Comment</th>\n",
              "      <th>Label</th>\n",
              "    </tr>\n",
              "  </thead>\n",
              "  <tbody>\n",
              "    <tr>\n",
              "      <th>0</th>\n",
              "      <td>kệ</td>\n",
              "      <td>0</td>\n",
              "    </tr>\n",
              "    <tr>\n",
              "      <th>1</th>\n",
              "      <td>se mấy bữa_nay giả fan trung_lập đi nhục kinh lắm</td>\n",
              "      <td>2</td>\n",
              "    </tr>\n",
              "    <tr>\n",
              "      <th>2</th>\n",
              "      <td>nan</td>\n",
              "      <td>0</td>\n",
              "    </tr>\n",
              "    <tr>\n",
              "      <th>3</th>\n",
              "      <td>thầy cổ_vũ</td>\n",
              "      <td>0</td>\n",
              "    </tr>\n",
              "    <tr>\n",
              "      <th>4</th>\n",
              "      <td>bình_luận_viên hơi lạnh phải🤣🤣🤣</td>\n",
              "      <td>2</td>\n",
              "    </tr>\n",
              "  </tbody>\n",
              "</table>\n",
              "</div>\n",
              "      <button class=\"colab-df-convert\" onclick=\"convertToInteractive('df-2e768458-0c41-4a07-b0f6-8854bcaf8389')\"\n",
              "              title=\"Convert this dataframe to an interactive table.\"\n",
              "              style=\"display:none;\">\n",
              "        \n",
              "  <svg xmlns=\"http://www.w3.org/2000/svg\" height=\"24px\"viewBox=\"0 0 24 24\"\n",
              "       width=\"24px\">\n",
              "    <path d=\"M0 0h24v24H0V0z\" fill=\"none\"/>\n",
              "    <path d=\"M18.56 5.44l.94 2.06.94-2.06 2.06-.94-2.06-.94-.94-2.06-.94 2.06-2.06.94zm-11 1L8.5 8.5l.94-2.06 2.06-.94-2.06-.94L8.5 2.5l-.94 2.06-2.06.94zm10 10l.94 2.06.94-2.06 2.06-.94-2.06-.94-.94-2.06-.94 2.06-2.06.94z\"/><path d=\"M17.41 7.96l-1.37-1.37c-.4-.4-.92-.59-1.43-.59-.52 0-1.04.2-1.43.59L10.3 9.45l-7.72 7.72c-.78.78-.78 2.05 0 2.83L4 21.41c.39.39.9.59 1.41.59.51 0 1.02-.2 1.41-.59l7.78-7.78 2.81-2.81c.8-.78.8-2.07 0-2.86zM5.41 20L4 18.59l7.72-7.72 1.47 1.35L5.41 20z\"/>\n",
              "  </svg>\n",
              "      </button>\n",
              "      \n",
              "  <style>\n",
              "    .colab-df-container {\n",
              "      display:flex;\n",
              "      flex-wrap:wrap;\n",
              "      gap: 12px;\n",
              "    }\n",
              "\n",
              "    .colab-df-convert {\n",
              "      background-color: #E8F0FE;\n",
              "      border: none;\n",
              "      border-radius: 50%;\n",
              "      cursor: pointer;\n",
              "      display: none;\n",
              "      fill: #1967D2;\n",
              "      height: 32px;\n",
              "      padding: 0 0 0 0;\n",
              "      width: 32px;\n",
              "    }\n",
              "\n",
              "    .colab-df-convert:hover {\n",
              "      background-color: #E2EBFA;\n",
              "      box-shadow: 0px 1px 2px rgba(60, 64, 67, 0.3), 0px 1px 3px 1px rgba(60, 64, 67, 0.15);\n",
              "      fill: #174EA6;\n",
              "    }\n",
              "\n",
              "    [theme=dark] .colab-df-convert {\n",
              "      background-color: #3B4455;\n",
              "      fill: #D2E3FC;\n",
              "    }\n",
              "\n",
              "    [theme=dark] .colab-df-convert:hover {\n",
              "      background-color: #434B5C;\n",
              "      box-shadow: 0px 1px 3px 1px rgba(0, 0, 0, 0.15);\n",
              "      filter: drop-shadow(0px 1px 2px rgba(0, 0, 0, 0.3));\n",
              "      fill: #FFFFFF;\n",
              "    }\n",
              "  </style>\n",
              "\n",
              "      <script>\n",
              "        const buttonEl =\n",
              "          document.querySelector('#df-2e768458-0c41-4a07-b0f6-8854bcaf8389 button.colab-df-convert');\n",
              "        buttonEl.style.display =\n",
              "          google.colab.kernel.accessAllowed ? 'block' : 'none';\n",
              "\n",
              "        async function convertToInteractive(key) {\n",
              "          const element = document.querySelector('#df-2e768458-0c41-4a07-b0f6-8854bcaf8389');\n",
              "          const dataTable =\n",
              "            await google.colab.kernel.invokeFunction('convertToInteractive',\n",
              "                                                     [key], {});\n",
              "          if (!dataTable) return;\n",
              "\n",
              "          const docLinkHtml = 'Like what you see? Visit the ' +\n",
              "            '<a target=\"_blank\" href=https://colab.research.google.com/notebooks/data_table.ipynb>data table notebook</a>'\n",
              "            + ' to learn more about interactive tables.';\n",
              "          element.innerHTML = '';\n",
              "          dataTable['output_type'] = 'display_data';\n",
              "          await google.colab.output.renderOutput(dataTable, element);\n",
              "          const docLink = document.createElement('div');\n",
              "          docLink.innerHTML = docLinkHtml;\n",
              "          element.appendChild(docLink);\n",
              "        }\n",
              "      </script>\n",
              "    </div>\n",
              "  </div>\n",
              "  "
            ]
          },
          "metadata": {},
          "execution_count": 17
        }
      ]
    },
    {
      "cell_type": "markdown",
      "source": [
        "Gán nhãn x_train,y_train,x_test,y_test"
      ],
      "metadata": {
        "id": "PdCQ9J0oY7GM"
      }
    },
    {
      "cell_type": "code",
      "source": [
        "X_train = train_data['Comment']\n",
        "y_train = train_data['Label']\n",
        "X_test = test_data['Comment']\n",
        "y_test = test_data['Label']"
      ],
      "metadata": {
        "id": "1jpLMtddgSGU"
      },
      "execution_count": null,
      "outputs": []
    },
    {
      "cell_type": "markdown",
      "source": [
        "Định nghĩa pipeline"
      ],
      "metadata": {
        "id": "-cPUdcBrY_kC"
      }
    },
    {
      "cell_type": "code",
      "source": [
        "pipeline = Pipeline([\n",
        "    ('tfidf', TfidfVectorizer()),  # Feature extraction using TF-IDF\n",
        "    ('classifier', SVC(C = 1000.0,gamma = 0.001, kernel = \"rbf\"))  # SVM\n",
        "])"
      ],
      "metadata": {
        "id": "FhZI_3tc6G2G"
      },
      "execution_count": null,
      "outputs": []
    },
    {
      "cell_type": "code",
      "source": [
        "pipeline.fit(X_train, y_train)"
      ],
      "metadata": {
        "colab": {
          "base_uri": "https://localhost:8080/",
          "height": 125
        },
        "id": "u1ShEtIM6ycX",
        "outputId": "7d06a811-fe79-4692-84f5-e8b9dc95651c"
      },
      "execution_count": null,
      "outputs": [
        {
          "output_type": "execute_result",
          "data": {
            "text/plain": [
              "Pipeline(steps=[('tfidf', TfidfVectorizer()),\n",
              "                ('classifier', SVC(C=1000.0, gamma=0.001))])"
            ],
            "text/html": [
              "<style>#sk-container-id-1 {color: black;background-color: white;}#sk-container-id-1 pre{padding: 0;}#sk-container-id-1 div.sk-toggleable {background-color: white;}#sk-container-id-1 label.sk-toggleable__label {cursor: pointer;display: block;width: 100%;margin-bottom: 0;padding: 0.3em;box-sizing: border-box;text-align: center;}#sk-container-id-1 label.sk-toggleable__label-arrow:before {content: \"▸\";float: left;margin-right: 0.25em;color: #696969;}#sk-container-id-1 label.sk-toggleable__label-arrow:hover:before {color: black;}#sk-container-id-1 div.sk-estimator:hover label.sk-toggleable__label-arrow:before {color: black;}#sk-container-id-1 div.sk-toggleable__content {max-height: 0;max-width: 0;overflow: hidden;text-align: left;background-color: #f0f8ff;}#sk-container-id-1 div.sk-toggleable__content pre {margin: 0.2em;color: black;border-radius: 0.25em;background-color: #f0f8ff;}#sk-container-id-1 input.sk-toggleable__control:checked~div.sk-toggleable__content {max-height: 200px;max-width: 100%;overflow: auto;}#sk-container-id-1 input.sk-toggleable__control:checked~label.sk-toggleable__label-arrow:before {content: \"▾\";}#sk-container-id-1 div.sk-estimator input.sk-toggleable__control:checked~label.sk-toggleable__label {background-color: #d4ebff;}#sk-container-id-1 div.sk-label input.sk-toggleable__control:checked~label.sk-toggleable__label {background-color: #d4ebff;}#sk-container-id-1 input.sk-hidden--visually {border: 0;clip: rect(1px 1px 1px 1px);clip: rect(1px, 1px, 1px, 1px);height: 1px;margin: -1px;overflow: hidden;padding: 0;position: absolute;width: 1px;}#sk-container-id-1 div.sk-estimator {font-family: monospace;background-color: #f0f8ff;border: 1px dotted black;border-radius: 0.25em;box-sizing: border-box;margin-bottom: 0.5em;}#sk-container-id-1 div.sk-estimator:hover {background-color: #d4ebff;}#sk-container-id-1 div.sk-parallel-item::after {content: \"\";width: 100%;border-bottom: 1px solid gray;flex-grow: 1;}#sk-container-id-1 div.sk-label:hover label.sk-toggleable__label {background-color: #d4ebff;}#sk-container-id-1 div.sk-serial::before {content: \"\";position: absolute;border-left: 1px solid gray;box-sizing: border-box;top: 0;bottom: 0;left: 50%;z-index: 0;}#sk-container-id-1 div.sk-serial {display: flex;flex-direction: column;align-items: center;background-color: white;padding-right: 0.2em;padding-left: 0.2em;position: relative;}#sk-container-id-1 div.sk-item {position: relative;z-index: 1;}#sk-container-id-1 div.sk-parallel {display: flex;align-items: stretch;justify-content: center;background-color: white;position: relative;}#sk-container-id-1 div.sk-item::before, #sk-container-id-1 div.sk-parallel-item::before {content: \"\";position: absolute;border-left: 1px solid gray;box-sizing: border-box;top: 0;bottom: 0;left: 50%;z-index: -1;}#sk-container-id-1 div.sk-parallel-item {display: flex;flex-direction: column;z-index: 1;position: relative;background-color: white;}#sk-container-id-1 div.sk-parallel-item:first-child::after {align-self: flex-end;width: 50%;}#sk-container-id-1 div.sk-parallel-item:last-child::after {align-self: flex-start;width: 50%;}#sk-container-id-1 div.sk-parallel-item:only-child::after {width: 0;}#sk-container-id-1 div.sk-dashed-wrapped {border: 1px dashed gray;margin: 0 0.4em 0.5em 0.4em;box-sizing: border-box;padding-bottom: 0.4em;background-color: white;}#sk-container-id-1 div.sk-label label {font-family: monospace;font-weight: bold;display: inline-block;line-height: 1.2em;}#sk-container-id-1 div.sk-label-container {text-align: center;}#sk-container-id-1 div.sk-container {/* jupyter's `normalize.less` sets `[hidden] { display: none; }` but bootstrap.min.css set `[hidden] { display: none !important; }` so we also need the `!important` here to be able to override the default hidden behavior on the sphinx rendered scikit-learn.org. See: https://github.com/scikit-learn/scikit-learn/issues/21755 */display: inline-block !important;position: relative;}#sk-container-id-1 div.sk-text-repr-fallback {display: none;}</style><div id=\"sk-container-id-1\" class=\"sk-top-container\"><div class=\"sk-text-repr-fallback\"><pre>Pipeline(steps=[(&#x27;tfidf&#x27;, TfidfVectorizer()),\n",
              "                (&#x27;classifier&#x27;, SVC(C=1000.0, gamma=0.001))])</pre><b>In a Jupyter environment, please rerun this cell to show the HTML representation or trust the notebook. <br />On GitHub, the HTML representation is unable to render, please try loading this page with nbviewer.org.</b></div><div class=\"sk-container\" hidden><div class=\"sk-item sk-dashed-wrapped\"><div class=\"sk-label-container\"><div class=\"sk-label sk-toggleable\"><input class=\"sk-toggleable__control sk-hidden--visually\" id=\"sk-estimator-id-1\" type=\"checkbox\" ><label for=\"sk-estimator-id-1\" class=\"sk-toggleable__label sk-toggleable__label-arrow\">Pipeline</label><div class=\"sk-toggleable__content\"><pre>Pipeline(steps=[(&#x27;tfidf&#x27;, TfidfVectorizer()),\n",
              "                (&#x27;classifier&#x27;, SVC(C=1000.0, gamma=0.001))])</pre></div></div></div><div class=\"sk-serial\"><div class=\"sk-item\"><div class=\"sk-estimator sk-toggleable\"><input class=\"sk-toggleable__control sk-hidden--visually\" id=\"sk-estimator-id-2\" type=\"checkbox\" ><label for=\"sk-estimator-id-2\" class=\"sk-toggleable__label sk-toggleable__label-arrow\">TfidfVectorizer</label><div class=\"sk-toggleable__content\"><pre>TfidfVectorizer()</pre></div></div></div><div class=\"sk-item\"><div class=\"sk-estimator sk-toggleable\"><input class=\"sk-toggleable__control sk-hidden--visually\" id=\"sk-estimator-id-3\" type=\"checkbox\" ><label for=\"sk-estimator-id-3\" class=\"sk-toggleable__label sk-toggleable__label-arrow\">SVC</label><div class=\"sk-toggleable__content\"><pre>SVC(C=1000.0, gamma=0.001)</pre></div></div></div></div></div></div></div>"
            ]
          },
          "metadata": {},
          "execution_count": 20
        }
      ]
    },
    {
      "cell_type": "code",
      "source": [
        "y_pred = pipeline.predict(X_test)"
      ],
      "metadata": {
        "id": "qpfKsdeA614-"
      },
      "execution_count": null,
      "outputs": []
    },
    {
      "cell_type": "code",
      "source": [
        "from sklearn.metrics import classification_report\n",
        "print(classification_report(y_test, y_pred))"
      ],
      "metadata": {
        "colab": {
          "base_uri": "https://localhost:8080/"
        },
        "id": "-Iau5HIf63aW",
        "outputId": "46cfe0d4-b42f-4d58-ad44-b4d5735c6d7e"
      },
      "execution_count": null,
      "outputs": [
        {
          "output_type": "stream",
          "name": "stdout",
          "text": [
            "              precision    recall  f1-score   support\n",
            "\n",
            "           0       0.93      0.98      0.95      1270\n",
            "           1       0.77      0.69      0.73       238\n",
            "           2       0.59      0.38      0.46       111\n",
            "\n",
            "    accuracy                           0.89      1619\n",
            "   macro avg       0.76      0.68      0.71      1619\n",
            "weighted avg       0.88      0.89      0.89      1619\n",
            "\n"
          ]
        }
      ]
    },
    {
      "cell_type": "code",
      "source": [
        "accuracy_score(y_test, y_pred)"
      ],
      "metadata": {
        "colab": {
          "base_uri": "https://localhost:8080/"
        },
        "id": "-u6dqTO4hjtg",
        "outputId": "30a0e75b-68f5-48e2-9f5d-c26e189a8de5"
      },
      "execution_count": null,
      "outputs": [
        {
          "output_type": "execute_result",
          "data": {
            "text/plain": [
              "0.8931439159975293"
            ]
          },
          "metadata": {},
          "execution_count": 23
        }
      ]
    },
    {
      "cell_type": "code",
      "source": [
        "cf1 = confusion_matrix(y_test, y_pred)\n",
        "print(cf1)\n",
        "\n",
        "evaluation = f1_score(y_test, y_pred, average='micro')\n",
        "\n",
        "print(\"F1 - micro: \" + str(evaluation))\n",
        "\n",
        "evaluation = f1_score(y_test, y_pred, average='macro')\n",
        "print(\"F1 - macro: \" + str(evaluation))\n",
        "\n",
        "evaluation = accuracy_score(y_test, y_pred)\n",
        "print(\"Accuracy: \" + str(evaluation))\n",
        "\n",
        "df_cm1 = pd.DataFrame(cf1, index = [\"clean\",\"offensive\",\"hate\"],\n",
        "                  columns = [\"clean\",\"offensive\",\"hate\"])\n",
        "plt.clf()\n",
        "sn.heatmap(df_cm1, annot=True, cmap=\"Greys\",fmt='g', cbar=True, annot_kws={\"size\": 30})"
      ],
      "metadata": {
        "colab": {
          "base_uri": "https://localhost:8080/",
          "height": 551
        },
        "id": "m5CGiceega67",
        "outputId": "0abf6a1c-691e-432f-e98a-8fe2a873dc4a"
      },
      "execution_count": null,
      "outputs": [
        {
          "output_type": "stream",
          "name": "stdout",
          "text": [
            "[[1239   24    7]\n",
            " [  51  165   22]\n",
            " [  45   24   42]]\n",
            "F1 - micro: 0.8931439159975293\n",
            "F1 - macro: 0.7148311264597956\n",
            "Accuracy: 0.8931439159975293\n"
          ]
        },
        {
          "output_type": "execute_result",
          "data": {
            "text/plain": [
              "<Axes: >"
            ]
          },
          "metadata": {},
          "execution_count": 24
        },
        {
          "output_type": "display_data",
          "data": {
            "text/plain": [
              "<Figure size 640x480 with 2 Axes>"
            ],
            "image/png": "[encoded data removed]"
          },
          "metadata": {}
        }
      ]
    },
    {
      "cell_type": "code",
      "source": [
        "data = []\n",
        "s = 0\n",
        "for i in range(len(y_pred)):\n",
        "    if y_pred[i] != y_test[i]:\n",
        "        print(test_data['Comment'][i], '|',y_pred[i] , '|', y_test[i])\n",
        "        s += 1"
      ],
      "metadata": {
        "id": "o3i-Eb8fGyEH",
        "outputId": "6039fc09-a4d1-4e7a-bc5b-e33a82a085b2",
        "colab": {
          "base_uri": "https://localhost:8080/"
        }
      },
      "execution_count": null,
      "outputs": [
        {
          "output_type": "stream",
          "name": "stdout",
          "text": [
            "se mấy bữa_nay giả fan trung_lập đi nhục kinh lắm | 0 | 2\n",
            "bình_luận_viên hơi lạnh phải🤣🤣🤣 | 0 | 2\n",
            "who need dev 1 ve: v | 0 | 2\n",
            "??? huy bú | 1 | 2\n",
            "đặc cầu | 0 | 1\n",
            "aduvipwa | 0 | 1\n",
            "zeus non học 369:)))) | 0 | 2\n",
            "ys cặc | 1 | 2\n",
            "đánh ngu | 2 | 1\n",
            "2 đội gà v | 0 | 2\n",
            "bọn như cặc già | 1 | 0\n",
            "mẹ dink 140 | 0 | 1\n",
            "nizy nhon vãi lồn =)) | 1 | 2\n",
            "mấy hề đánh | 0 | 2\n",
            "quang hải thịt trih trâu | 0 | 2\n",
            "cưỡi con_bé awesome | 0 | 2\n",
            "duma rừng | 0 | 1\n",
            "sài_gòn lạnh chúng_mày chẳng hiểu sao đá | 0 | 2\n",
            "red hút đá s | 0 | 2\n",
            "lồn out trình sea | 1 | 0\n",
            "moá đánh bắt | 0 | 1\n",
            "đù 18 | 1 | 0\n",
            "na hành máy quen =)) | 0 | 2\n",
            "diana điên | 1 | 2\n",
            "cứt | 0 | 1\n",
            "ngu | 2 | 1\n",
            "lê khánh vô_học | 0 | 2\n",
            "chấn bé đù | 0 | 2\n",
            "ngài điên | 1 | 2\n",
            "quốc nhục gân đàm | 0 | 1\n",
            "lồn magnus xoay vòng | 0 | 1\n",
            "ảo đá | 2 | 1\n",
            "đi rừng ngu nh chó | 2 | 1\n",
            "trụ rồng, chiến_thuật bọn gân đàm | 0 | 2\n",
            "mé tara ghê | 0 | 1\n",
            "ana ngáo đá | 1 | 2\n",
            "đùu | 0 | 1\n",
            "móc con mẹ mày view se tao gam | 0 | 1\n",
            "tật ác | 0 | 1\n",
            "kênh chat toàn trẻ trâu chấp | 0 | 2\n",
            "đần | 2 | 1\n",
            "tao chậm chạy lồn | 2 | 1\n",
            "đái quần | 1 | 0\n",
            "xong mẹ game:))) | 1 | 0\n",
            "gân đàm đái é é é | 0 | 1\n",
            "mày đá hả | 0 | 2\n",
            "mấy cháu toàn ảo c4 xbor | 2 | 0\n",
            "mẹ tưởng gọi | 1 | 0\n",
            "giọng thương vãi =))) | 1 | 0\n",
            "duyên_dáng đánh kém vãi lồn | 1 | 2\n",
            "vải:)) | 1 | 0\n",
            "địt_mẹ mày | 0 | 2\n",
            "kẹ mịa team đi ngài farm gánh | 0 | 1\n",
            "bá đần gánh team | 2 | 1\n",
            "cục bs ngon vãi | 1 | 0\n",
            "kênh chat bẩn | 0 | 2\n",
            "vãi cức hình blody, logo ea | 0 | 1\n",
            ":)) bọn comment chiêu anet chửi red | 0 | 2\n",
            "nhục | 0 | 1\n",
            "clma pr | 0 | 1\n",
            "thay đầm đỏ lyly | 2 | 0\n",
            "neon vo hoc | 0 | 2\n",
            "pick ẻn zo đi bồn lình | 2 | 0\n",
            "giết gay | 2 | 1\n",
            "toàn bọn vô hăn hoá chat | 0 | 2\n",
            "đnáh dốt pha | 1 | 2\n",
            "chào coi condilon | 0 | 1\n",
            "khanhbeo an cut khanhbeo ancut | 0 | 2\n",
            "vãi đi đánh xong thua eco | 0 | 1\n",
            "maky múa kinh vkl | 1 | 2\n",
            "nhục chó | 2 | 1\n",
            "dám pick medu, chả pick am vã mồm | 0 | 1\n",
            "vét mạng awesome | 2 | 0\n",
            "mẹ sp s1 s2 | 1 | 0\n",
            "đéo bao h ulti rub sống | 1 | 0\n",
            "gáy hề 2 dỡ | 0 | 1\n",
            "lông | 0 | 1\n",
            "đổ vạ thằng mid địt bố mày | 0 | 2\n",
            "rank việt cao_thủ toàn gà, xoá gảm đi | 0 | 2\n",
            "đi bắn, mấy ô nhật bắn trông chán vãi lồn | 2 | 1\n",
            "mù mắt | 0 | 1\n",
            "dú dú dú anh em oi | 0 | 2\n",
            "cơ_bắp | 0 | 2\n",
            "view ff đéo 1 góc lq | 1 | 2\n",
            "giọng uống đá:)))) | 1 | 0\n",
            "dí cạc | 0 | 1\n",
            "mèo há mồm | 2 | 0\n",
            "đéo damg | 0 | 1\n",
            "thằng ngu sủa lắm 1 5 cdm | 2 | 1\n",
            "thắng làm gì. đi tê_liệt. | 1 | 0\n",
            "đéo tryhard =)) giải từ_thiện bắn tryhard =)) | 0 | 1\n",
            "nauti kinred đù vãi cặc | 1 | 2\n",
            "ma vuong suyt như cặc ngoai` day | 1 | 0\n",
            "vãi lồn đánh thở bình oxi =)) | 1 | 2\n",
            "mana cút awesome | 0 | 1\n",
            "mấy đứa bảo fan blg chẳng_qua anti-fan geng, mấy gà, 3-0 geng | 0 | 2\n",
            "bố_láo | 0 | 1\n",
            "blv lưỡi ngắn | 0 | 2\n",
            "lạ gáy | 0 | 1\n",
            "bênh xong ta t hảo cảm con_mẹ =. = \" | 1 | 0\n",
            "game liên_quân trẻ trâu hiểu_biết. nhăn cuội, chả.:)) | 0 | 2\n",
            "ảnh 1 ám_ảnh vãi cặc | 2 | 1\n",
            "best zed mẹ phản_xạ smite nể | 0 | 1\n",
            "duma top | 0 | 1\n",
            "mé bùn ngủ vãi | 0 | 1\n",
            "vinhcs chán vãi lồn, lck lpl chuyên_môn, văn tùng phân_tích sâu =)) | 2 | 1\n",
            "d m quái_vật | 0 | 1\n",
            "con mẹ mày j4 | 0 | 2\n",
            "set ngài hơi phèn | 0 | 2\n",
            "tao bảo thua 30 thi nhục vãi lồn | 2 | 1\n",
            "cha_nội ngọng bl chả | 0 | 2\n",
            "ngu lắm | 2 | 1\n",
            "vãi lồn jax wukong tí nx admin bắn | 0 | 1\n",
            "nhạc đb\\ | 0 | 1\n",
            "d 'động vao no | 0 | 1\n",
            "rẻ_mạt | 0 | 1\n",
            "d m mày mid | 0 | 2\n",
            "đéo | 1 | 0\n",
            "yado đánh_đấm quần què | 0 | 2\n",
            "hùng bú win hơi | 1 | 2\n",
            "deo bat untl | 0 | 1\n",
            "vô văn_hoá | 0 | 1\n",
            "tộc_người hang < (\") | 1 | 0\n",
            "cặc tao | 2 | 1\n",
            "mid tao bảo may lồn | 1 | 2\n",
            "se lck đánh lồn view gam đánh rôi: v | 2 | 0\n",
            "an cuc | 0 | 1\n",
            "lyly mặc bì al | 2 | 0\n",
            "lpl trung bán_độ máy_cày =)) | 0 | 2\n",
            "tró lày:)) | 0 | 2\n",
            "rác | 0 | 1\n",
            "ngài điên mẹ | 1 | 2\n",
            "chương_trình truyền_hình mạng chửi thề tư_cách hả tùng | 0 | 2\n",
            "ngu học | 2 | 1\n",
            "mấy thánh sủa bậy | 1 | 0\n",
            "phế chết thay | 0 | 1\n",
            "ren đần sút | 1 | 2\n",
            "chán vãi lồn | 1 | 2\n",
            "trình gáy kinh lắm. thua đổ thừa vòng_vo bo, map tủ, quen meta.... cười ỉa. hứa. củ | 0 | 1\n",
            "lồn medusa hack tiền | 1 | 2\n",
            "moá sp lolz | 1 | 2\n",
            "kda rác vãi cặc | 1 | 2\n",
            "ngu khjai thác | 2 | 1\n",
            "câm | 0 | 1\n",
            "cơm chó? | 1 | 0\n",
            "vlin mấy g2:)) | 0 | 2\n",
            "kênh chat mất_dạy vãi lồn:)) | 2 | 1\n",
            "bai tổn luồi | 0 | 2\n",
            "@ huy mai nhường??? đánh ngu xong kêu nhường, ba_mẹ dạy mày khiêm_tốn? ba_mẹ m chết | 0 | 2\n",
            "giáp ct hn đần v | 0 | 2\n",
            "mẹ thả 3 | 1 | 0\n",
            "ngai` thi` cax nao hanh`:))) | 0 | 2\n",
            "mẹ mày | 2 | 1\n",
            "đánh vầy psg vả sấp_mặt lồn | 0 | 1\n",
            "mid kỹ_năng, đi bú rừng | 1 | 2\n",
            "vng làm_ăn cặc | 1 | 2\n",
            "mẹ | 1 | 0\n",
            "vai biu kèo hồi xưa | 0 | 1\n",
            "vãi | 1 | 0\n",
            "rắn thành giun | 0 | 1\n",
            "mẹ | 1 | 0\n",
            "admin target xàm lồn | 2 | 1\n",
            "trình 36đái | 0 | 1\n",
            "t1ngu vãi cặc, pick nauti toàn thua pick tiếp | 1 | 2\n",
            "tướng xấu vãi cả lồn | 1 | 2\n",
            "mẹ đống mắt | 1 | 0\n",
            "m choi da | 0 | 2\n",
            ". gáy đi:))) | 0 | 1\n",
            "cứu kanavi thọt con_mẹ: v | 0 | 1\n",
            "gánh ngu | 2 | 1\n",
            "2 thằng blv đống rác liên_quân v?? | 0 | 2\n",
            "nguyên cỏ thằng trẻ_con học_đòi sơn lambo | 0 | 2\n",
            "timing flash vãi lồn, chỗ đẹp flash đẩy | 0 | 1\n"
          ]
        }
      ]
    },
    {
      "cell_type": "code",
      "source": [],
      "metadata": {
        "id": "ROn-XOC1ePtx"
      },
      "execution_count": null,
      "outputs": []
    }
  ]
}